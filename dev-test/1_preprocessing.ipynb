{
 "cells": [
  {
   "cell_type": "code",
   "execution_count": 195,
   "id": "1614a6cb",
   "metadata": {},
   "outputs": [],
   "source": [
    "import pandas as pd\n",
    "import numpy as np\n",
    "import socket as sk\n",
    "import struct as st\n",
    "import warnings\n",
    "warnings.filterwarnings(\"ignore\")"
   ]
  },
  {
   "cell_type": "code",
   "execution_count": 196,
   "id": "774e864a",
   "metadata": {},
   "outputs": [],
   "source": [
    "df = pd.read_csv(\"dataup.csv\", index_col = [0])"
   ]
  },
  {
   "cell_type": "markdown",
   "id": "594a4f41",
   "metadata": {},
   "source": [
    "# Finding the bad guys!\n"
   ]
  },
  {
   "cell_type": "markdown",
   "id": "ede5f074",
   "metadata": {},
   "source": [
    "#router's address\n"
   ]
  },
  {
   "cell_type": "code",
   "execution_count": 197,
   "id": "fe41405b",
   "metadata": {},
   "outputs": [
    {
     "data": {
      "text/plain": [
       "(array(['10.40.170.2', '10.40.182.1', '10.40.182.3', '10.40.182.6',\n",
       "        '10.40.85.1', '10.40.85.10', '10.40.85.30', '127.0.0.1',\n",
       "        '149.171.126.0', '149.171.126.1', '149.171.126.10',\n",
       "        '149.171.126.11', '149.171.126.12', '149.171.126.13',\n",
       "        '149.171.126.14', '149.171.126.15', '149.171.126.16',\n",
       "        '149.171.126.17', '149.171.126.18', '149.171.126.19',\n",
       "        '149.171.126.2', '149.171.126.3', '149.171.126.4', '149.171.126.5',\n",
       "        '149.171.126.6', '149.171.126.7', '149.171.126.8', '149.171.126.9',\n",
       "        '175.45.176.0', '175.45.176.1', '175.45.176.2', '175.45.176.3',\n",
       "        '192168241243', '59.166.0.0', '59.166.0.1', '59.166.0.2',\n",
       "        '59.166.0.3', '59.166.0.4', '59.166.0.5', '59.166.0.6',\n",
       "        '59.166.0.7', '59.166.0.8', '59.166.0.9'], dtype=object),\n",
       " array([  2094,   3984,   2105,   3492,   4018,    793,   2138,      1,\n",
       "           261,    311,  30365,     28,  16082,    218,  41047,  44883,\n",
       "             9,     22,  81680,     21,    295,    311,    300,    339,\n",
       "           298,    270,    291,    285,  82999, 127998,  32026, 118673,\n",
       "           108, 197528, 197680, 197550, 195953, 197959, 197626, 189419,\n",
       "        189059, 189341, 190187], dtype=int64))"
      ]
     },
     "execution_count": 197,
     "metadata": {},
     "output_type": "execute_result"
    }
   ],
   "source": [
    "np.unique(df.srcip, return_counts=True)"
   ]
  },
  {
   "cell_type": "code",
   "execution_count": 198,
   "id": "85e38602",
   "metadata": {},
   "outputs": [
    {
     "data": {
      "text/plain": [
       "(array(['10.40.170.2', '10.40.182.255', '10.40.182.3', '10.40.182.6',\n",
       "        '10.40.198.10', '10.40.85.1', '10.40.85.30', '127.0.0.1',\n",
       "        '149.171.126.0', '149.171.126.1', '149.171.126.10',\n",
       "        '149.171.126.11', '149.171.126.12', '149.171.126.13',\n",
       "        '149.171.126.14', '149.171.126.15', '149.171.126.16',\n",
       "        '149.171.126.17', '149.171.126.18', '149.171.126.19',\n",
       "        '149.171.126.2', '149.171.126.3', '149.171.126.4', '149.171.126.5',\n",
       "        '149.171.126.6', '149.171.126.7', '149.171.126.8', '149.171.126.9',\n",
       "        '175.45.176.0', '175.45.176.1', '175.45.176.2', '175.45.176.3',\n",
       "        '192.168.241.50', '192168241243', '224.0.0.1', '224.0.0.5',\n",
       "        '32.50.32.66', '59.166.0.0', '59.166.0.1', '59.166.0.2',\n",
       "        '59.166.0.3', '59.166.0.4', '59.166.0.5', '59.166.0.6',\n",
       "        '59.166.0.7', '59.166.0.8', '59.166.0.9'], dtype=object),\n",
       " array([  2094,   3480,   3824,     11,    265,   2407,   1728,      1,\n",
       "        196770, 197535,  44059,  14271,  30484,  17825,  45544,  50919,\n",
       "         12377,  26918, 103066,  16176, 197648, 197771, 197639, 197000,\n",
       "        189709, 190268, 187479, 190483,  46671,  73927,     97,  93683,\n",
       "           265,    108,     56,   4520,      8,    333,    329,    325,\n",
       "           262,    303,    271,    284,    267,    274,    313],\n",
       "       dtype=int64))"
      ]
     },
     "execution_count": 198,
     "metadata": {},
     "output_type": "execute_result"
    }
   ],
   "source": [
    "np.unique(df.dstip, return_counts=True)"
   ]
  },
  {
   "cell_type": "code",
   "execution_count": 199,
   "id": "ce82b33c",
   "metadata": {},
   "outputs": [
    {
     "data": {
      "text/plain": [
       "((108, 49), (108, 49))"
      ]
     },
     "execution_count": 199,
     "metadata": {},
     "output_type": "execute_result"
    }
   ],
   "source": [
    "df.loc[df.srcip == '192168241243'].shape, df.loc[df.dstip == '192168241243'].shape"
   ]
  },
  {
   "cell_type": "code",
   "execution_count": 200,
   "id": "97ba2f42",
   "metadata": {},
   "outputs": [],
   "source": [
    "df.loc[df.srcip == '192168241243','srcip'] = '192.168.241.243'\n",
    "df.loc[df.dstip == '192168241243','dstip'] = '192.168.241.243'"
   ]
  },
  {
   "cell_type": "code",
   "execution_count": 201,
   "id": "1fe830a5",
   "metadata": {},
   "outputs": [],
   "source": [
    "#Converting IP to a numerical\n",
    "df['srcip'] = df.srcip.apply(lambda x: st.unpack('!I', sk.inet_aton(x))[0])\n",
    "df['dstip'] = df.dstip.apply(lambda x: st.unpack('!I', sk.inet_aton(x))[0])"
   ]
  },
  {
   "cell_type": "markdown",
   "id": "8e2b4a5a",
   "metadata": {},
   "source": [
    "#Port number\n"
   ]
  },
  {
   "cell_type": "code",
   "execution_count": 202,
   "id": "bf22d090",
   "metadata": {},
   "outputs": [
    {
     "data": {
      "text/plain": [
       "((54, 49), (2, 49), (241, 49), (2, 49), (4, 49))"
      ]
     },
     "execution_count": 202,
     "metadata": {},
     "output_type": "execute_result"
    }
   ],
   "source": [
    "#Converting Hex to Base 10\n",
    "df.loc[df.dsport == '0xc0a8'].shape, df.loc[df.dsport == '0x20205321'].shape, df.loc[df.dsport == '0xcc09'].shape, df.loc[df.sport == '0x000b'].shape, df.loc[df.sport == '0x000c'].shape"
   ]
  },
  {
   "cell_type": "code",
   "execution_count": 203,
   "id": "406e3c93",
   "metadata": {},
   "outputs": [],
   "source": [
    "#Converting Hex to Base 10\n",
    "df.loc[df.dsport == '0xc0a8','dsport'] = '49320'\n",
    "df.loc[df.dsport == '0x20205321','dsport'] = '538989345'\n",
    "df.loc[df.dsport == '0xcc09','dsport'] = '52233'\n",
    "df.loc[df.sport == '0x000b','sport'] = '11'\n",
    "df.loc[df.sport == '0x000c','sport'] = '12'"
   ]
  },
  {
   "cell_type": "code",
   "execution_count": 204,
   "id": "f107fca9",
   "metadata": {},
   "outputs": [
    {
     "data": {
      "text/plain": [
       "((7, 49), (2, 49))"
      ]
     },
     "execution_count": 204,
     "metadata": {},
     "output_type": "execute_result"
    }
   ],
   "source": [
    "df.loc[df.dsport == '-'].shape, df.loc[df.sport == '-'].shape,"
   ]
  },
  {
   "cell_type": "code",
   "execution_count": 205,
   "id": "e3b42209",
   "metadata": {},
   "outputs": [],
   "source": [
    "#Handling missing values\n",
    "df.drop(df.loc[df.dsport == '-'].index, inplace = True)\n",
    "df.drop(df.loc[df.sport == '-'].index, inplace = True)"
   ]
  },
  {
   "cell_type": "code",
   "execution_count": 207,
   "id": "633db2e8",
   "metadata": {},
   "outputs": [],
   "source": [
    "# Getting rid of unnecessary column\n",
    "df.drop(columns='attack_cat', inplace = True)"
   ]
  },
  {
   "cell_type": "code",
   "execution_count": 208,
   "id": "907d6765",
   "metadata": {},
   "outputs": [],
   "source": [
    "# Handling inconsistent data\n",
    "df.dur = df.dur.str.replace(',','.')\n",
    "df.ackdat = df.ackdat.str.replace(',','.')\n",
    "df.loc[df.ct_ftp_cmd == ' ', 'ct_ftp_cmd'] = df.ct_flw_http_mthd.mean()"
   ]
  },
  {
   "cell_type": "code",
   "execution_count": 209,
   "id": "cbf1f3e4",
   "metadata": {},
   "outputs": [],
   "source": [
    "#Handling missing values\n",
    "df.ct_flw_http_mthd.fillna(df.ct_flw_http_mthd.mean(), inplace = True)\n",
    "df.is_ftp_login.fillna(df.is_ftp_login .mean(), inplace = True)"
   ]
  },
  {
   "cell_type": "code",
   "execution_count": 210,
   "id": "6911cc0f",
   "metadata": {},
   "outputs": [
    {
     "data": {
      "text/plain": [
       "0         0.001055\n",
       "1         0.036133\n",
       "2         0.001119\n",
       "3         0.001209\n",
       "4         0.001169\n",
       "            ...   \n",
       "440039         NaN\n",
       "440040         NaN\n",
       "440041         NaN\n",
       "440042         NaN\n",
       "440043         NaN\n",
       "Name: dur, Length: 2540011, dtype: float64"
      ]
     },
     "execution_count": 210,
     "metadata": {},
     "output_type": "execute_result"
    }
   ],
   "source": [
    "#Convert objet \n",
    "df.sport.astype(int)\n",
    "df.dsport.astype(int)\n",
    "df.ackdat.astype(float)\n",
    "df.dur.astype(float) "
   ]
  },
  {
   "cell_type": "code",
   "execution_count": 211,
   "id": "d13f6c37",
   "metadata": {},
   "outputs": [],
   "source": [
    "# Handling categorical data\n",
    "from sklearn.preprocessing import LabelEncoder\n",
    "Encoder = LabelEncoder()"
   ]
  },
  {
   "cell_type": "code",
   "execution_count": 212,
   "id": "05a58ca9",
   "metadata": {},
   "outputs": [],
   "source": [
    "df.proto = Encoder.fit_transform(df.proto)\n",
    "df.state = Encoder.fit_transform(df.state)\n",
    "df.service = Encoder.fit_transform(df.service)"
   ]
  },
  {
   "cell_type": "code",
   "execution_count": 213,
   "id": "7f6b7b3e",
   "metadata": {},
   "outputs": [],
   "source": [
    "df.to_csv('data-preprocessing2.csv')"
   ]
  }
 ],
 "metadata": {
  "kernelspec": {
   "display_name": "Python 3.10.7 64-bit (microsoft store)",
   "language": "python",
   "name": "python3"
  },
  "language_info": {
   "codemirror_mode": {
    "name": "ipython",
    "version": 3
   },
   "file_extension": ".py",
   "mimetype": "text/x-python",
   "name": "python",
   "nbconvert_exporter": "python",
   "pygments_lexer": "ipython3",
   "version": "3.10.7"
  },
  "vscode": {
   "interpreter": {
    "hash": "3b7e9cb8e453d6cda0fe8c8dd13f891a1f09162f0e7c66ffeae7751a7aecf00d"
   }
  }
 },
 "nbformat": 4,
 "nbformat_minor": 5
}
