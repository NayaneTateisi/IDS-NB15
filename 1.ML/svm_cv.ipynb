{
 "cells": [
  {
   "cell_type": "code",
   "execution_count": 1,
   "id": "99395796",
   "metadata": {},
   "outputs": [],
   "source": [
    "import pandas as pd\n",
    "import numpy as np\n",
    "from sklearn.svm import SVC\n",
    "from sklearn.metrics import accuracy_score, recall_score, f1_score, roc_auc_score,  confusion_matrix\n",
    "import pickle\n",
    "import warnings\n",
    "warnings.filterwarnings(\"ignore\")"
   ]
  },
  {
   "cell_type": "code",
   "execution_count": 3,
   "id": "97c13974",
   "metadata": {},
   "outputs": [],
   "source": [
    "with open('dataset-nids.pkl','rb') as f:\n",
    "    X_train, y_train, X_test, y_test = pickle.load(f)"
   ]
  },
  {
   "cell_type": "code",
   "execution_count": 4,
   "id": "0a16ebef",
   "metadata": {},
   "outputs": [
    {
     "data": {
      "text/plain": [
       "((3549974, 7), (3549974,), (508003, 7), (508003,))"
      ]
     },
     "execution_count": 4,
     "metadata": {},
     "output_type": "execute_result"
    }
   ],
   "source": [
    "X_train.shape, y_train.shape, X_test.shape, y_test.shape"
   ]
  },
  {
   "cell_type": "markdown",
   "id": "63780b32",
   "metadata": {},
   "source": [
    "Baseline"
   ]
  },
  {
   "cell_type": "code",
   "execution_count": 4,
   "id": "98c1d15f",
   "metadata": {},
   "outputs": [
    {
     "name": "stdout",
     "output_type": "stream",
     "text": [
      "[LibSVM].........WARN: libsvm Solver reached max_iter\n",
      "optimization finished, #iter = 10000\n",
      "obj = -212578.431299, rho = -3.255192\n",
      "nSV = 17894, nBSV = 17875\n",
      "Total nSV = 17894\n",
      ".........WARN: libsvm Solver reached max_iter\n",
      "optimization finished, #iter = 10000\n",
      "obj = -194206.299717, rho = -2.573989\n",
      "nSV = 18393, nBSV = 18373\n",
      "Total nSV = 18393\n",
      ".........WARN: libsvm Solver reached max_iter\n",
      "optimization finished, #iter = 10000\n",
      "obj = -196396.807370, rho = -2.521983\n",
      "nSV = 19403, nBSV = 19395\n",
      "Total nSV = 19403\n",
      ".........WARN: libsvm Solver reached max_iter\n",
      "optimization finished, #iter = 10000\n",
      "obj = -208206.968754, rho = 0.248711\n",
      "nSV = 19500, nBSV = 19493\n",
      "Total nSV = 19500\n",
      ".........WARN: libsvm Solver reached max_iter\n",
      "optimization finished, #iter = 10000\n",
      "obj = -204492.916153, rho = -1.554769\n",
      "nSV = 19426, nBSV = 19418\n",
      "Total nSV = 19426\n",
      "Line search fails in two-class probability estimates\n",
      ".........WARN: libsvm Solver reached max_iter\n",
      "optimization finished, #iter = 10000\n",
      "obj = -209682.196199, rho = -0.943952\n",
      "nSV = 19830, nBSV = 19819\n",
      "Total nSV = 19830\n"
     ]
    }
   ],
   "source": [
    "svm = SVC(C = 10, gamma = 1, kernel = \"rbf\",verbose=3, max_iter = 10000, probability=True)\n",
    "svm_cls = svm.fit(X_train, y_train)"
   ]
  },
  {
   "cell_type": "code",
   "execution_count": 5,
   "id": "d5be6837",
   "metadata": {},
   "outputs": [],
   "source": [
    "from sklearn.metrics import precision_recall_curve, auc, roc_curve, roc_auc_score\n",
    "from sklearn.metrics import confusion_matrix, plot_confusion_matrix\n",
    "import scikitplot as skplt \n",
    "import matplotlib.pyplot as plt"
   ]
  },
  {
   "cell_type": "code",
   "execution_count": 6,
   "id": "a498e919",
   "metadata": {},
   "outputs": [
    {
     "data": {
      "text/plain": [
       "Text(0, 0.5, 'Valores Reais ')"
      ]
     },
     "execution_count": 6,
     "metadata": {},
     "output_type": "execute_result"
    },
    {
     "data": {
      "image/png": "[encoded data removed]",
      "text/plain": [
       "<Figure size 432x432 with 2 Axes>"
      ]
     },
     "metadata": {
      "needs_background": "light"
     },
     "output_type": "display_data"
    }
   ],
   "source": [
    "y_pred_opt = svm_cls.predict(X_test)\n",
    "ax = skplt.metrics.plot_confusion_matrix(y_test, y_pred_opt, figsize=(6,6))\n",
    "ax.set_title('Matriz de confusão')\n",
    "ax.set_xlabel('\\nValores Preditos')\n",
    "ax.set_ylabel('Valores Reais ')"
   ]
  },
  {
   "cell_type": "code",
   "execution_count": 7,
   "id": "c0b92ceb",
   "metadata": {},
   "outputs": [
    {
     "data": {
      "image/png": "[encoded data removed]",
      "text/plain": [
       "<Figure size 432x288 with 1 Axes>"
      ]
     },
     "metadata": {
      "needs_background": "light"
     },
     "output_type": "display_data"
    }
   ],
   "source": [
    "y_pred_proba = svm_cls.predict_proba(X_test)[::,1]\n",
    "fpr, tpr, _ = roc_curve(y_test,  y_pred_proba)\n",
    "auc = roc_auc_score(y_test, y_pred_proba)\n",
    "plt.plot(fpr,tpr,label=\"auc=\"+str(auc))\n",
    "plt.legend(loc=4)\n",
    "plt.show()"
   ]
  },
  {
   "cell_type": "markdown",
   "id": "b9570c96",
   "metadata": {},
   "source": [
    "Cross Validation"
   ]
  },
  {
   "cell_type": "code",
   "execution_count": 5,
   "id": "fa2cbb83",
   "metadata": {},
   "outputs": [],
   "source": [
    "X_train = np.concatenate((X_train,X_test), axis = 0)\n",
    "y_train = np.concatenate((y_train,y_test), axis = 0)"
   ]
  },
  {
   "cell_type": "code",
   "execution_count": 6,
   "id": "826fc8bd",
   "metadata": {},
   "outputs": [
    {
     "data": {
      "text/plain": [
       "((4057977, 7), (4057977,))"
      ]
     },
     "execution_count": 6,
     "metadata": {},
     "output_type": "execute_result"
    }
   ],
   "source": [
    "X_train.shape, y_train.shape"
   ]
  },
  {
   "cell_type": "code",
   "execution_count": 7,
   "id": "1e4d7143",
   "metadata": {},
   "outputs": [],
   "source": [
    "from sklearn.model_selection import KFold, cross_validate"
   ]
  },
  {
   "cell_type": "code",
   "execution_count": 8,
   "id": "ef0d771c",
   "metadata": {},
   "outputs": [
    {
     "name": "stdout",
     "output_type": "stream",
     "text": [
      "[LibSVM][LibSVM][LibSVM][LibSVM][LibSVM][LibSVM][LibSVM][LibSVM][LibSVM][LibSVM]................................................................................................................................................................................................................................................................................................................................................................................................................................................................................................................................................................................................................................................................................................................................................................................................................................................................................................................................................................................................................................................................................................................................................................................................................................................................................................................................................................................................................................................................................................................................................................................................................................................................................................................................................................................................*\n",
      "optimization finished, #iter = 229651\n",
      "obj = -653090.117421, rho = -3.659423\n",
      "nSV = 66263, nBSV = 66125\n",
      "Total nSV = 66263\n",
      ".....................................................................................................................................................................................................................................................................................................................................................................................................*\n",
      "optimization finished, #iter = 206629\n",
      "obj = -655560.900235, rho = -2.630556\n",
      "nSV = 66499, nBSV = 66346\n",
      "Total nSV = 66499\n",
      "..........................................................................................................................................................................................*\n",
      "optimization finished, #iter = 279983\n",
      "obj = -654076.700643, rho = -2.560415\n",
      "nSV = 66324, nBSV = 66187\n",
      "Total nSV = 66324\n",
      "...................................................*\n",
      "optimization finished, #iter = 273313\n",
      "obj = -657350.640064, rho = -2.873381\n",
      "nSV = 66658, nBSV = 66521\n",
      "Total nSV = 66658\n",
      "........................................................................*\n",
      "optimization finished, #iter = 263705\n",
      "obj = -652678.724327, rho = -3.171738\n",
      "nSV = 66201, nBSV = 66060\n",
      "Total nSV = 66201\n",
      ".................................................................................................................................................................................*\n",
      "optimization finished, #iter = 283059\n",
      "obj = -653715.946193, rho = -2.520765\n",
      "nSV = 66291, nBSV = 66148\n",
      "Total nSV = 66291\n",
      "......................................................*\n",
      "optimization finished, #iter = 282521\n",
      "obj = -654322.664153, rho = -2.134453\n",
      "nSV = 66389, nBSV = 66239\n",
      "Total nSV = 66389\n",
      "..............................................*\n",
      "optimization finished, #iter = 291251\n",
      "obj = -656515.372948, rho = -3.515837\n",
      "nSV = 66580, nBSV = 66448\n",
      "Total nSV = 66580\n",
      "..*\n",
      "optimization finished, #iter = 314291\n",
      "obj = -654883.854823, rho = -2.893272\n",
      "nSV = 66408, nBSV = 66262\n",
      "Total nSV = 66408\n",
      ".................................................*\n",
      "optimization finished, #iter = 334267\n",
      "obj = -655042.086937, rho = -2.582502\n",
      "nSV = 66413, nBSV = 66287\n",
      "Total nSV = 66413\n",
      "- fit_time:\n",
      "-- [39580.5616374  41767.16900086 45740.30119443 38807.69762707\n",
      " 33084.03285599 38356.96940136 42538.49927115 36700.7656126\n",
      " 43347.03657722 43398.19089365]\n",
      "-- 40332.12240717411 +- 3566.2001768291825\n",
      "\n",
      "- score_time:\n",
      "-- [2531.76812029 2327.10712957 2224.92050886 2541.51686287 2610.28220224\n",
      " 2585.32826614 2406.72149086 2873.41922736 2290.64812946 2316.69640279]\n",
      "-- 2470.8408340454102 +- 185.68932550914207\n",
      "\n",
      "- test_accuracy:\n",
      "-- [0.99095363 0.99106206 0.99126659 0.99148345 0.99098566 0.99115323\n",
      " 0.99126659 0.99135528 0.99137007 0.991237  ]\n",
      "-- 0.9912133558968625 +- 0.00016422193332358783\n",
      "\n",
      "- test_precision:\n",
      "-- [0.98153501 0.98167314 0.98193351 0.98258121 0.98151067 0.98172318\n",
      " 0.98197996 0.98207606 0.98218485 0.98194265]\n",
      "-- 0.9819140232399061 +- 0.00030839651175095374\n",
      "\n",
      "- test_recall:\n",
      "-- [0.99883104 0.99892891 0.99911376 0.99891803 0.99892891 0.99908115\n",
      " 0.99906484 0.9991627  0.99908114 0.99903765]\n",
      "-- 0.9990148120555803 +- 0.00010068938724691455\n",
      "\n",
      "- test_f1:\n",
      "-- [0.99010749 0.99022585 0.99044914 0.99068228 0.99014319 0.99032611\n",
      " 0.99044873 0.9905457  0.99056095 0.99041639]\n",
      "-- 0.9903905824426247 +- 0.00017840418743653787\n",
      "\n",
      "- test_roc_auc:\n",
      "-- [0.99579916 0.9948007  0.99517922 0.99627152 0.99702959 0.99486583\n",
      " 0.99478464 0.99515699 0.99471011 0.99628661]\n",
      "-- 0.9954884366934571 +- 0.0007674120827503957\n",
      "\n"
     ]
    }
   ],
   "source": [
    "\n",
    "metricas = ['accuracy', 'precision', 'recall', 'f1', 'roc_auc' ]\n",
    "svm = SVC(C = 10, gamma = 1, kernel= \"rbf\", verbose = 5, shrinking=0, cache_size=1000)\n",
    "metricas = cross_validate(svm, X_train, y_train, cv=10, scoring= metricas, n_jobs=-1)\n",
    "\n",
    "for met in metricas:\n",
    "    print(f\"- {met}:\")\n",
    "    print(f\"-- {metricas[met]}\")\n",
    "    print(f\"-- {np.mean(metricas[met])} +- {np.std(metricas[met])}\\n\")  "
   ]
  }
 ],
 "metadata": {
  "kernelspec": {
   "display_name": "Python 3.10.7 64-bit (microsoft store)",
   "language": "python",
   "name": "python3"
  },
  "language_info": {
   "codemirror_mode": {
    "name": "ipython",
    "version": 3
   },
   "file_extension": ".py",
   "mimetype": "text/x-python",
   "name": "python",
   "nbconvert_exporter": "python",
   "pygments_lexer": "ipython3",
   "version": "3.10.7"
  },
  "vscode": {
   "interpreter": {
    "hash": "3b7e9cb8e453d6cda0fe8c8dd13f891a1f09162f0e7c66ffeae7751a7aecf00d"
   }
  }
 },
 "nbformat": 4,
 "nbformat_minor": 5
}
