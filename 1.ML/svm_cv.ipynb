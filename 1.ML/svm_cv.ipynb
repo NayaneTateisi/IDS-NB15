{
 "cells": [
  {
   "cell_type": "code",
   "execution_count": 3,
   "id": "73e82626",
   "metadata": {},
   "outputs": [],
   "source": [
    "import pandas as pd\n",
    "import numpy as np\n",
    "from sklearn.svm import SVC\n",
    "from sklearn.model_selection import GridSearchCV\n",
    "from sklearn.metrics import accuracy_score, recall_score, f1_score\n",
    "import pickle\n",
    "import warnings\n",
    "warnings.filterwarnings(\"ignore\")"
   ]
  },
  {
   "cell_type": "code",
   "execution_count": 6,
   "id": "ea18150d",
   "metadata": {},
   "outputs": [],
   "source": [
    "with open('dataset-nids.pkl','rb') as f:\n",
    "    X_train, y_train, X_test, y_test = pickle.load(f)"
   ]
  },
  {
   "cell_type": "code",
   "execution_count": 7,
   "id": "d655923f",
   "metadata": {},
   "outputs": [
    {
     "data": {
      "text/plain": [
       "((3549974, 7), (3549974,), (508003, 7), (508003,))"
      ]
     },
     "execution_count": 7,
     "metadata": {},
     "output_type": "execute_result"
    }
   ],
   "source": [
    "X_train.shape, y_train.shape, X_test.shape, y_test.shape"
   ]
  },
  {
   "cell_type": "markdown",
   "id": "cc7910e1",
   "metadata": {},
   "source": [
    "Tuning best parameters"
   ]
  },
  {
   "cell_type": "code",
   "execution_count": 14,
   "id": "79a6db24",
   "metadata": {},
   "outputs": [
    {
     "name": "stdout",
     "output_type": "stream",
     "text": [
      "CPU times: total: 0 ns\n",
      "Wall time: 0 ns\n"
     ]
    }
   ],
   "source": [
    "%%time \n",
    "\n",
    "param_grid = {\n",
    "    \"C\": [1,5,10],\n",
    "    \"gamma\": [0.1, 1, 10],\n",
    "    \"max_iter\": [1000, 5000,10000]\n",
    "\n",
    "}"
   ]
  },
  {
   "cell_type": "code",
   "execution_count": 19,
   "id": "d0f3e47c",
   "metadata": {},
   "outputs": [
    {
     "name": "stdout",
     "output_type": "stream",
     "text": [
      "Fitting 3 folds for each of 27 candidates, totalling 81 fits\n",
      "[CV] END ......................C=1, gamma=0.1, max_iter=1000; total time=10.3min\n",
      "[CV] END ......................C=1, gamma=0.1, max_iter=1000; total time=10.2min\n",
      "[CV] END ......................C=1, gamma=0.1, max_iter=1000; total time=10.2min\n",
      "[CV] END ......................C=1, gamma=0.1, max_iter=5000; total time=50.6min\n",
      "[CV] END ......................C=1, gamma=0.1, max_iter=5000; total time=53.2min\n",
      "[CV] END ......................C=1, gamma=0.1, max_iter=5000; total time=51.3min\n",
      "[CV] END ....................C=1, gamma=0.1, max_iter=10000; total time=101.2min\n",
      "[CV] END ...................C=1, gamma=0.1, max_iter=10000; total time=1707.1min\n",
      "[CV] END ....................C=1, gamma=0.1, max_iter=10000; total time=112.9min\n",
      "[CV] END ........................C=1, gamma=1, max_iter=1000; total time=11.4min\n",
      "[CV] END ........................C=1, gamma=1, max_iter=1000; total time=11.1min\n",
      "[CV] END ........................C=1, gamma=1, max_iter=1000; total time=11.0min\n",
      "[CV] END ........................C=1, gamma=1, max_iter=5000; total time=54.5min\n",
      "[CV] END .......................C=1, gamma=1, max_iter=5000; total time=525.5min\n",
      "[CV] END ........................C=1, gamma=1, max_iter=5000; total time=43.5min\n",
      "[CV] END ......................C=1, gamma=1, max_iter=10000; total time=108.7min\n",
      "[CV] END ......................C=1, gamma=1, max_iter=10000; total time=107.2min\n",
      "[CV] END .......................C=1, gamma=1, max_iter=10000; total time=94.5min\n",
      "[CV] END .......................C=1, gamma=10, max_iter=1000; total time=10.3min\n",
      "[CV] END .......................C=1, gamma=10, max_iter=1000; total time=10.4min\n",
      "[CV] END .......................C=1, gamma=10, max_iter=1000; total time=10.6min\n",
      "[CV] END .......................C=1, gamma=10, max_iter=5000; total time=59.1min\n",
      "[CV] END .......................C=1, gamma=10, max_iter=5000; total time=63.3min\n",
      "[CV] END .......................C=1, gamma=10, max_iter=5000; total time=54.6min\n",
      "[CV] END .....................C=1, gamma=10, max_iter=10000; total time=107.1min\n",
      "[CV] END .....................C=1, gamma=10, max_iter=10000; total time=108.2min\n",
      "[CV] END .....................C=1, gamma=10, max_iter=10000; total time=112.5min\n",
      "[CV] END .....................C=5, gamma=0.1, max_iter=1000; total time=568.2min\n",
      "[CV] END ......................C=5, gamma=0.1, max_iter=1000; total time=10.3min\n",
      "[CV] END ......................C=5, gamma=0.1, max_iter=1000; total time=11.8min\n",
      "[CV] END ......................C=5, gamma=0.1, max_iter=5000; total time=55.9min\n",
      "[CV] END ......................C=5, gamma=0.1, max_iter=5000; total time=63.3min\n",
      "[CV] END ......................C=5, gamma=0.1, max_iter=5000; total time=58.3min\n",
      "[CV] END ....................C=5, gamma=0.1, max_iter=10000; total time=109.8min\n",
      "[CV] END ....................C=5, gamma=0.1, max_iter=10000; total time=112.3min\n",
      "[CV] END ....................C=5, gamma=0.1, max_iter=10000; total time=108.6min\n",
      "[CV] END ........................C=5, gamma=1, max_iter=1000; total time=10.4min\n",
      "[CV] END ........................C=5, gamma=1, max_iter=1000; total time=10.5min\n",
      "[CV] END ........................C=5, gamma=1, max_iter=1000; total time=10.8min\n",
      "[CV] END ........................C=5, gamma=1, max_iter=5000; total time=50.8min\n",
      "[CV] END ........................C=5, gamma=1, max_iter=5000; total time=49.7min\n",
      "[CV] END .......................C=5, gamma=1, max_iter=5000; total time=138.3min\n",
      "[CV] END ......................C=5, gamma=1, max_iter=10000; total time=107.7min\n",
      "[CV] END ......................C=5, gamma=1, max_iter=10000; total time=105.2min\n",
      "[CV] END ......................C=5, gamma=1, max_iter=10000; total time=614.3min\n",
      "[CV] END .......................C=5, gamma=10, max_iter=1000; total time= 9.6min\n",
      "[CV] END .......................C=5, gamma=10, max_iter=1000; total time=10.0min\n",
      "[CV] END .......................C=5, gamma=10, max_iter=1000; total time=10.8min\n",
      "[CV] END .......................C=5, gamma=10, max_iter=5000; total time=50.7min\n",
      "[CV] END .......................C=5, gamma=10, max_iter=5000; total time=51.6min\n",
      "[CV] END .......................C=5, gamma=10, max_iter=5000; total time=52.1min\n",
      "[CV] END .....................C=5, gamma=10, max_iter=10000; total time=103.1min\n",
      "[CV] END .....................C=5, gamma=10, max_iter=10000; total time=102.3min\n",
      "[CV] END .....................C=5, gamma=10, max_iter=10000; total time=127.8min\n",
      "[CV] END .....................C=10, gamma=0.1, max_iter=1000; total time=11.8min\n",
      "[CV] END .....................C=10, gamma=0.1, max_iter=1000; total time=12.0min\n",
      "[CV] END .....................C=10, gamma=0.1, max_iter=1000; total time=12.3min\n",
      "[CV] END .....................C=10, gamma=0.1, max_iter=5000; total time=60.7min\n",
      "[CV] END .....................C=10, gamma=0.1, max_iter=5000; total time=57.3min\n",
      "[CV] END .....................C=10, gamma=0.1, max_iter=5000; total time=57.3min\n",
      "[CV] END ...................C=10, gamma=0.1, max_iter=10000; total time=104.5min\n",
      "[CV] END ...................C=10, gamma=0.1, max_iter=10000; total time=496.4min\n",
      "[CV] END ...................C=10, gamma=0.1, max_iter=10000; total time=112.3min\n",
      "[CV] END .......................C=10, gamma=1, max_iter=1000; total time=11.1min\n",
      "[CV] END .......................C=10, gamma=1, max_iter=1000; total time=11.0min\n",
      "[CV] END .......................C=10, gamma=1, max_iter=1000; total time=11.2min\n",
      "[CV] END .......................C=10, gamma=1, max_iter=5000; total time=54.4min\n",
      "[CV] END .......................C=10, gamma=1, max_iter=5000; total time=50.8min\n",
      "[CV] END .......................C=10, gamma=1, max_iter=5000; total time=55.6min\n",
      "[CV] END .....................C=10, gamma=1, max_iter=10000; total time=104.7min\n",
      "[CV] END .....................C=10, gamma=1, max_iter=10000; total time=101.8min\n",
      "[CV] END .....................C=10, gamma=1, max_iter=10000; total time=107.9min\n",
      "[CV] END ......................C=10, gamma=10, max_iter=1000; total time= 9.6min\n",
      "[CV] END ......................C=10, gamma=10, max_iter=1000; total time= 9.7min\n",
      "[CV] END ......................C=10, gamma=10, max_iter=1000; total time=10.3min\n",
      "[CV] END ......................C=10, gamma=10, max_iter=5000; total time=50.7min\n",
      "[CV] END ......................C=10, gamma=10, max_iter=5000; total time=51.1min\n",
      "[CV] END .....................C=10, gamma=10, max_iter=5000; total time=628.7min\n",
      "[CV] END ....................C=10, gamma=10, max_iter=10000; total time=109.5min\n",
      "[CV] END ....................C=10, gamma=10, max_iter=10000; total time=110.1min\n",
      "[CV] END ....................C=10, gamma=10, max_iter=10000; total time=111.6min\n"
     ]
    },
    {
     "data": {
      "text/plain": [
       "GridSearchCV(cv=3, estimator=SVC(),\n",
       "             param_grid={'C': [1, 5, 10], 'gamma': [0.1, 1, 10],\n",
       "                         'max_iter': [1000, 5000, 10000]},\n",
       "             scoring='precision', verbose=2)"
      ]
     },
     "execution_count": 19,
     "metadata": {},
     "output_type": "execute_result"
    }
   ],
   "source": [
    "cf_svm = GridSearchCV(SVC(),param_grid=param_grid, scoring=\"precision\", cv=3, verbose=2)\n",
    "cf_svm.fit(X_train, y_train)"
   ]
  },
  {
   "cell_type": "code",
   "execution_count": 20,
   "id": "29388f6a",
   "metadata": {},
   "outputs": [],
   "source": [
    "\n",
    "params = cf_svm.best_params_\n",
    "score = cf_svm.best_score_"
   ]
  },
  {
   "cell_type": "code",
   "execution_count": 21,
   "id": "7d4c0741",
   "metadata": {},
   "outputs": [
    {
     "name": "stdout",
     "output_type": "stream",
     "text": [
      "{'C': 5, 'gamma': 1, 'max_iter': 5000}\n",
      "0.981692144186073\n"
     ]
    }
   ],
   "source": [
    "print(params)\n",
    "print(score)"
   ]
  },
  {
   "cell_type": "markdown",
   "id": "a827c2a6",
   "metadata": {},
   "source": [
    "Baseline"
   ]
  },
  {
   "cell_type": "code",
   "execution_count": 5,
   "id": "e99e6d8b",
   "metadata": {},
   "outputs": [
    {
     "name": "stdout",
     "output_type": "stream",
     "text": [
      "[LibSVM]"
     ]
    }
   ],
   "source": [
    "svm = SVC(C = 5, gamma = 1, kernel = \"rbf\",verbose=3, max_iter=10000,probability=True)\n",
    "svm_cls = svm.fit(X_train, y_train)"
   ]
  },
  {
   "cell_type": "code",
   "execution_count": 6,
   "id": "734449ae",
   "metadata": {},
   "outputs": [],
   "source": [
    "from sklearn.metrics import precision_recall_curve, auc, roc_curve, roc_auc_score\n",
    "from sklearn.metrics import confusion_matrix, plot_confusion_matrix\n",
    "import scikitplot as skplt \n",
    "import matplotlib.pyplot as plt"
   ]
  },
  {
   "cell_type": "code",
   "execution_count": 7,
   "id": "483b36f9",
   "metadata": {},
   "outputs": [
    {
     "data": {
      "text/plain": [
       "Text(0, 0.5, 'Valores Reais ')"
      ]
     },
     "execution_count": 7,
     "metadata": {},
     "output_type": "execute_result"
    },
    {
     "data": {
      "image/png": "[encoded data removed]",
      "text/plain": [
       "<Figure size 432x432 with 2 Axes>"
      ]
     },
     "metadata": {
      "needs_background": "light"
     },
     "output_type": "display_data"
    }
   ],
   "source": [
    "y_pred_opt = svm_cls.predict(X_test)\n",
    "ax = skplt.metrics.plot_confusion_matrix(y_test, y_pred_opt, figsize=(6,6))\n",
    "ax.set_title('Matriz de confusão')\n",
    "ax.set_xlabel('\\nValores Preditos')\n",
    "ax.set_ylabel('Valores Reais ')"
   ]
  },
  {
   "cell_type": "code",
   "execution_count": 8,
   "id": "2fde2d15",
   "metadata": {},
   "outputs": [
    {
     "data": {
      "image/png": "[encoded data removed]",
      "text/plain": [
       "<Figure size 432x288 with 1 Axes>"
      ]
     },
     "metadata": {
      "needs_background": "light"
     },
     "output_type": "display_data"
    }
   ],
   "source": [
    "y_pred_proba = svm_cls.predict_proba(X_test)[::,1]\n",
    "fpr, tpr, _ = roc_curve(y_test,  y_pred_proba)\n",
    "auc = roc_auc_score(y_test, y_pred_proba)\n",
    "plt.plot(fpr,tpr,label=\"auc=\"+str(round(auc,4)))\n",
    "plt.ylabel('\\nSensibilidade \\n(TVP)')\n",
    "plt.xlabel('\\n 1 - Especifidade \\n(TFP)')\n",
    "plt.legend(loc=4)\n",
    "plt.show()"
   ]
  },
  {
   "cell_type": "markdown",
   "id": "3865b754",
   "metadata": {},
   "source": [
    "Cross Validation"
   ]
  },
  {
   "cell_type": "code",
   "execution_count": 8,
   "id": "11f4bacd",
   "metadata": {},
   "outputs": [],
   "source": [
    "X_train = np.concatenate((X_train,X_test), axis = 0)\n",
    "y_train = np.concatenate((y_train,y_test), axis = 0)"
   ]
  },
  {
   "cell_type": "code",
   "execution_count": 10,
   "id": "80f78df2",
   "metadata": {},
   "outputs": [
    {
     "data": {
      "text/plain": [
       "((4057977, 7), (4057977,))"
      ]
     },
     "execution_count": 10,
     "metadata": {},
     "output_type": "execute_result"
    }
   ],
   "source": [
    "X_train.shape, y_train.shape"
   ]
  },
  {
   "cell_type": "code",
   "execution_count": 1,
   "id": "7a62e4d0",
   "metadata": {},
   "outputs": [],
   "source": [
    "from sklearn.model_selection import KFold, cross_validate"
   ]
  },
  {
   "cell_type": "code",
   "execution_count": 9,
   "id": "79d8f342",
   "metadata": {},
   "outputs": [
    {
     "name": "stdout",
     "output_type": "stream",
     "text": [
      "[LibSVM][LibSVM][LibSVM][LibSVM][LibSVM][LibSVM][LibSVM][LibSVM][LibSVM][LibSVM]- fit_time:\n",
      "-- [ 7123.97610331  6853.19661903  7263.48540545  7369.24089193\n",
      "  6980.76521444  6641.37022305  6615.23383284 38950.52312827\n",
      "  7710.41624546  6294.42153001]\n",
      "-- 10180.262919378281 +- 9598.007361035374\n",
      "\n",
      "- score_time:\n",
      "-- [326.92971158 315.98996639 329.59757805 317.12592864 271.1079936\n",
      " 292.04500651 325.43339705 330.49928641 347.44777107 273.51180673]\n",
      "-- 312.9688446044922 +- 24.282303475033878\n",
      "\n",
      "- test_accuracy:\n",
      "-- [0.91272012 0.91334358 0.91301584 0.91307744 0.91382412 0.91331894\n",
      " 0.91380441 0.91397916 0.91339512 0.91270759]\n",
      "-- 0.9133186314574896 +- 0.0004261115280280224\n",
      "\n",
      "- test_precision:\n",
      "-- [0.9902871  0.99053611 0.99053428 0.99120366 0.99081988 0.99083338\n",
      " 0.9912662  0.99094006 0.99071216 0.99084425]\n",
      "-- 0.9907977074687695 +- 0.00028536885461558374\n",
      "\n",
      "- test_recall:\n",
      "-- [0.8154292  0.81660903 0.81588047 0.81545638 0.81744189 0.81630556\n",
      " 0.81702324 0.81768557 0.81657641 0.81493443]\n",
      "-- 0.8163342191499234 +- 0.0008612657116903478\n",
      "\n",
      "- test_f1:\n",
      "-- [0.8943919  0.89520284 0.89476415 0.8947819  0.89581906 0.89514179\n",
      " 0.89574988 0.89601449 0.89525513 0.89432122]\n",
      "-- 0.8951442353251713 +- 0.0005580679306683917\n",
      "\n",
      "- test_roc_auc:\n",
      "-- [0.99342494 0.99560828 0.99559438 0.99601769 0.99560875 0.99564869\n",
      " 0.99585072 0.99584283 0.99589812 0.99490695]\n",
      "-- 0.9954401337497238 +- 0.000730981891521336\n",
      "\n"
     ]
    }
   ],
   "source": [
    "\n",
    "metricas = ['accuracy', 'precision', 'recall', 'f1', 'roc_auc' ]\n",
    "svm = SVC(C = 10, gamma = 1, kernel = \"rbf\",verbose=3, max_iter = 1000, probability=True)\n",
    "metricas = cross_validate(svm, X_train, y_train, cv=10, scoring= metricas)\n",
    "\n",
    "for met in metricas:\n",
    "    print(f\"- {met}:\")\n",
    "    print(f\"-- {metricas[met]}\")\n",
    "    print(f\"-- {np.mean(metricas[met])} +- {np.std(metricas[met])}\\n\")  "
   ]
  }
 ],
 "metadata": {
  "kernelspec": {
   "display_name": "Python 3.10.6 64-bit (windows store)",
   "language": "python",
   "name": "python3"
  },
  "language_info": {
   "codemirror_mode": {
    "name": "ipython",
    "version": 3
   },
   "file_extension": ".py",
   "mimetype": "text/x-python",
   "name": "python",
   "nbconvert_exporter": "python",
   "pygments_lexer": "ipython3",
   "version": "3.10.7"
  },
  "vscode": {
   "interpreter": {
    "hash": "3b7e9cb8e453d6cda0fe8c8dd13f891a1f09162f0e7c66ffeae7751a7aecf00d"
   }
  }
 },
 "nbformat": 4,
 "nbformat_minor": 5
}
