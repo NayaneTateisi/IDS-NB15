{
 "cells": [
  {
   "cell_type": "code",
   "execution_count": 1,
   "id": "73e82626",
   "metadata": {},
   "outputs": [],
   "source": [
    "import pandas as pd\n",
    "import numpy as np\n",
    "from sklearn.ensemble import RandomForestClassifier\n",
    "from sklearn.model_selection import GridSearchCV\n",
    "from sklearn.metrics import accuracy_score, recall_score, f1_score\n",
    "import pickle\n",
    "import warnings\n",
    "warnings.filterwarnings(\"ignore\")"
   ]
  },
  {
   "cell_type": "code",
   "execution_count": 2,
   "id": "ea18150d",
   "metadata": {},
   "outputs": [],
   "source": [
    "with open('dataset-nids.pkl','rb') as f:\n",
    "    X_train, y_train, X_test, y_test = pickle.load(f)"
   ]
  },
  {
   "cell_type": "code",
   "execution_count": 3,
   "id": "d655923f",
   "metadata": {},
   "outputs": [
    {
     "data": {
      "text/plain": [
       "((3549974, 7), (3549974,), (508003, 7), (508003,))"
      ]
     },
     "execution_count": 3,
     "metadata": {},
     "output_type": "execute_result"
    }
   ],
   "source": [
    "X_train.shape, y_train.shape, X_test.shape, y_test.shape"
   ]
  },
  {
   "cell_type": "markdown",
   "id": "87368a1a",
   "metadata": {},
   "source": [
    "Tuning best parameters"
   ]
  },
  {
   "cell_type": "code",
   "execution_count": 4,
   "id": "316daa5e",
   "metadata": {},
   "outputs": [
    {
     "name": "stdout",
     "output_type": "stream",
     "text": [
      "CPU times: user 42 µs, sys: 0 ns, total: 42 µs\n",
      "Wall time: 68.2 µs\n"
     ]
    }
   ],
   "source": [
    "%%time \n",
    "\n",
    "param_grid = {\n",
    "    \"criterion\": ['gini', 'entropy'],\n",
    "    \"max_depth\": [15, 20, 25],\n",
    "    \"n_estimators\": [60, 70, 75],\n",
    "    \"min_samples_split\":[1,2,4],\n",
    "    \"min_samples_leaf\":[1,2,4]\n",
    "}"
   ]
  },
  {
   "cell_type": "code",
   "execution_count": 5,
   "id": "72289f73",
   "metadata": {},
   "outputs": [],
   "source": [
    "cf = RandomForestClassifier()\n",
    "cf_cv = GridSearchCV(estimator=cf, param_grid=param_grid, scoring=\"f1\", cv=5)\n",
    "cf_cv.fit(X_train, y_train)\n",
    "\n",
    "params = cf_cv.best_params_\n",
    "score = cf_cv.best_score_"
   ]
  },
  {
   "cell_type": "code",
   "execution_count": 6,
   "id": "a0f619fa",
   "metadata": {},
   "outputs": [
    {
     "name": "stdout",
     "output_type": "stream",
     "text": [
      "{'criterion': 'gini', 'max_depth': 20, 'min_samples_leaf': 2, 'min_samples_split': 4, 'n_estimators': 75}\n",
      "0.9929365015395326\n"
     ]
    }
   ],
   "source": [
    "print(params)\n",
    "print(score)"
   ]
  },
  {
   "cell_type": "markdown",
   "id": "a827c2a6",
   "metadata": {},
   "source": [
    "Baseline"
   ]
  },
  {
   "cell_type": "code",
   "execution_count": 7,
   "id": "e99e6d8b",
   "metadata": {},
   "outputs": [
    {
     "name": "stderr",
     "output_type": "stream",
     "text": [
      "[Parallel(n_jobs=1)]: Using backend SequentialBackend with 1 concurrent workers.\n",
      "[Parallel(n_jobs=1)]: Done  75 out of  75 | elapsed: 12.9min finished\n"
     ]
    }
   ],
   "source": [
    "rfc = RandomForestClassifier(criterion = \"gini\", max_depth=20, min_samples_leaf=2, min_samples_split=4, n_estimators=75, verbose=1)\n",
    "rfc_cls = rfc.fit(X_train, y_train)"
   ]
  },
  {
   "cell_type": "code",
   "execution_count": 8,
   "id": "734449ae",
   "metadata": {},
   "outputs": [],
   "source": [
    "from sklearn.metrics import precision_recall_curve, auc, roc_curve, roc_auc_score\n",
    "from sklearn.metrics import confusion_matrix, plot_confusion_matrix\n",
    "import scikitplot as skplt \n",
    "import matplotlib.pyplot as plt"
   ]
  },
  {
   "cell_type": "code",
   "execution_count": 9,
   "id": "483b36f9",
   "metadata": {},
   "outputs": [
    {
     "name": "stderr",
     "output_type": "stream",
     "text": [
      "[Parallel(n_jobs=1)]: Using backend SequentialBackend with 1 concurrent workers.\n",
      "[Parallel(n_jobs=1)]: Done  75 out of  75 | elapsed:   12.0s finished\n"
     ]
    },
    {
     "data": {
      "text/plain": [
       "Text(0, 0.5, 'Valores Reais ')"
      ]
     },
     "execution_count": 9,
     "metadata": {},
     "output_type": "execute_result"
    },
    {
     "data": {
      "image/png": "[encoded data removed]",
      "text/plain": [
       "<Figure size 432x432 with 2 Axes>"
      ]
     },
     "metadata": {
      "needs_background": "light"
     },
     "output_type": "display_data"
    }
   ],
   "source": [
    "y_pred_opt = rfc_cls.predict(X_test)\n",
    "ax = skplt.metrics.plot_confusion_matrix(y_test, y_pred_opt, figsize=(6,6))\n",
    "ax.set_title('Matriz de confusão')\n",
    "ax.set_xlabel('\\nValores Preditos')\n",
    "ax.set_ylabel('Valores Reais ')"
   ]
  },
  {
   "cell_type": "code",
   "execution_count": 10,
   "id": "cd7c9362",
   "metadata": {},
   "outputs": [
    {
     "name": "stderr",
     "output_type": "stream",
     "text": [
      "[Parallel(n_jobs=1)]: Using backend SequentialBackend with 1 concurrent workers.\n",
      "[Parallel(n_jobs=1)]: Done  75 out of  75 | elapsed:    8.9s finished\n"
     ]
    }
   ],
   "source": [
    "y_pred_proba = rfc_cls.predict_proba(X_test)[::,1]"
   ]
  },
  {
   "cell_type": "code",
   "execution_count": 12,
   "id": "4ccf28fa",
   "metadata": {},
   "outputs": [
    {
     "data": {
      "image/png": "[encoded data removed]",
      "text/plain": [
       "<Figure size 432x288 with 1 Axes>"
      ]
     },
     "metadata": {
      "needs_background": "light"
     },
     "output_type": "display_data"
    }
   ],
   "source": [
    "fpr, tpr, _ = roc_curve(y_test,  y_pred_proba)\n",
    "auc = roc_auc_score(y_test, y_pred_proba)\n",
    "plt.plot(fpr,tpr,color='blue',label=\"auc=\"+str(round(auc,4)))\n",
    "plt.ylabel('\\nSensibilidade \\n(TVP)')\n",
    "plt.xlabel('\\n 1 - Especifidade \\n(TFP)')\n",
    "plt.title('Curva ROC')\n",
    "plt.legend(loc=4)\n",
    "plt.show()"
   ]
  },
  {
   "cell_type": "markdown",
   "id": "3865b754",
   "metadata": {},
   "source": [
    "Cross Validation"
   ]
  },
  {
   "cell_type": "code",
   "execution_count": 13,
   "id": "11f4bacd",
   "metadata": {},
   "outputs": [],
   "source": [
    "X_train = np.concatenate((X_train,X_test), axis = 0)\n",
    "y_train = np.concatenate((y_train,y_test), axis = 0)"
   ]
  },
  {
   "cell_type": "code",
   "execution_count": 14,
   "id": "80f78df2",
   "metadata": {},
   "outputs": [
    {
     "data": {
      "text/plain": [
       "((4057977, 7), (4057977,))"
      ]
     },
     "execution_count": 14,
     "metadata": {},
     "output_type": "execute_result"
    }
   ],
   "source": [
    "X_train.shape, y_train.shape"
   ]
  },
  {
   "cell_type": "code",
   "execution_count": 15,
   "id": "7a62e4d0",
   "metadata": {},
   "outputs": [],
   "source": [
    "from sklearn.model_selection import KFold, cross_validate"
   ]
  },
  {
   "cell_type": "code",
   "execution_count": 16,
   "id": "79d8f342",
   "metadata": {},
   "outputs": [
    {
     "name": "stderr",
     "output_type": "stream",
     "text": [
      "[Parallel(n_jobs=1)]: Using backend SequentialBackend with 1 concurrent workers.\n",
      "[Parallel(n_jobs=1)]: Done  70 out of  70 | elapsed: 12.1min finished\n",
      "[Parallel(n_jobs=1)]: Using backend SequentialBackend with 1 concurrent workers.\n",
      "[Parallel(n_jobs=1)]: Done  70 out of  70 | elapsed:    7.6s finished\n",
      "[Parallel(n_jobs=1)]: Using backend SequentialBackend with 1 concurrent workers.\n",
      "[Parallel(n_jobs=1)]: Done  70 out of  70 | elapsed:    6.9s finished\n",
      "[Parallel(n_jobs=1)]: Using backend SequentialBackend with 1 concurrent workers.\n",
      "[Parallel(n_jobs=1)]: Done  70 out of  70 | elapsed: 13.6min finished\n",
      "[Parallel(n_jobs=1)]: Using backend SequentialBackend with 1 concurrent workers.\n",
      "[Parallel(n_jobs=1)]: Done  70 out of  70 | elapsed:    6.6s finished\n",
      "[Parallel(n_jobs=1)]: Using backend SequentialBackend with 1 concurrent workers.\n",
      "[Parallel(n_jobs=1)]: Done  70 out of  70 | elapsed:    8.6s finished\n",
      "[Parallel(n_jobs=1)]: Using backend SequentialBackend with 1 concurrent workers.\n",
      "[Parallel(n_jobs=1)]: Done  70 out of  70 | elapsed: 13.1min finished\n",
      "[Parallel(n_jobs=1)]: Using backend SequentialBackend with 1 concurrent workers.\n",
      "[Parallel(n_jobs=1)]: Done  70 out of  70 | elapsed:    6.7s finished\n",
      "[Parallel(n_jobs=1)]: Using backend SequentialBackend with 1 concurrent workers.\n",
      "[Parallel(n_jobs=1)]: Done  70 out of  70 | elapsed:    6.7s finished\n",
      "[Parallel(n_jobs=1)]: Using backend SequentialBackend with 1 concurrent workers.\n",
      "[Parallel(n_jobs=1)]: Done  70 out of  70 | elapsed: 12.4min finished\n",
      "[Parallel(n_jobs=1)]: Using backend SequentialBackend with 1 concurrent workers.\n",
      "[Parallel(n_jobs=1)]: Done  70 out of  70 | elapsed:    6.8s finished\n",
      "[Parallel(n_jobs=1)]: Using backend SequentialBackend with 1 concurrent workers.\n",
      "[Parallel(n_jobs=1)]: Done  70 out of  70 | elapsed:    6.6s finished\n",
      "[Parallel(n_jobs=1)]: Using backend SequentialBackend with 1 concurrent workers.\n",
      "[Parallel(n_jobs=1)]: Done  70 out of  70 | elapsed: 11.4min finished\n",
      "[Parallel(n_jobs=1)]: Using backend SequentialBackend with 1 concurrent workers.\n",
      "[Parallel(n_jobs=1)]: Done  70 out of  70 | elapsed:    6.5s finished\n",
      "[Parallel(n_jobs=1)]: Using backend SequentialBackend with 1 concurrent workers.\n",
      "[Parallel(n_jobs=1)]: Done  70 out of  70 | elapsed:    6.3s finished\n",
      "[Parallel(n_jobs=1)]: Using backend SequentialBackend with 1 concurrent workers.\n",
      "[Parallel(n_jobs=1)]: Done  70 out of  70 | elapsed: 12.3min finished\n",
      "[Parallel(n_jobs=1)]: Using backend SequentialBackend with 1 concurrent workers.\n",
      "[Parallel(n_jobs=1)]: Done  70 out of  70 | elapsed:    6.6s finished\n",
      "[Parallel(n_jobs=1)]: Using backend SequentialBackend with 1 concurrent workers.\n",
      "[Parallel(n_jobs=1)]: Done  70 out of  70 | elapsed:    6.4s finished\n",
      "[Parallel(n_jobs=1)]: Using backend SequentialBackend with 1 concurrent workers.\n",
      "[Parallel(n_jobs=1)]: Done  70 out of  70 | elapsed: 12.7min finished\n",
      "[Parallel(n_jobs=1)]: Using backend SequentialBackend with 1 concurrent workers.\n",
      "[Parallel(n_jobs=1)]: Done  70 out of  70 | elapsed:    6.7s finished\n",
      "[Parallel(n_jobs=1)]: Using backend SequentialBackend with 1 concurrent workers.\n",
      "[Parallel(n_jobs=1)]: Done  70 out of  70 | elapsed:    6.6s finished\n",
      "[Parallel(n_jobs=1)]: Using backend SequentialBackend with 1 concurrent workers.\n",
      "[Parallel(n_jobs=1)]: Done  70 out of  70 | elapsed: 10.4min finished\n",
      "[Parallel(n_jobs=1)]: Using backend SequentialBackend with 1 concurrent workers.\n",
      "[Parallel(n_jobs=1)]: Done  70 out of  70 | elapsed:    5.2s finished\n",
      "[Parallel(n_jobs=1)]: Using backend SequentialBackend with 1 concurrent workers.\n",
      "[Parallel(n_jobs=1)]: Done  70 out of  70 | elapsed:    5.4s finished\n",
      "[Parallel(n_jobs=1)]: Using backend SequentialBackend with 1 concurrent workers.\n",
      "[Parallel(n_jobs=1)]: Done  70 out of  70 | elapsed: 11.9min finished\n",
      "[Parallel(n_jobs=1)]: Using backend SequentialBackend with 1 concurrent workers.\n",
      "[Parallel(n_jobs=1)]: Done  70 out of  70 | elapsed:    6.8s finished\n",
      "[Parallel(n_jobs=1)]: Using backend SequentialBackend with 1 concurrent workers.\n",
      "[Parallel(n_jobs=1)]: Done  70 out of  70 | elapsed:    6.8s finished\n",
      "[Parallel(n_jobs=1)]: Using backend SequentialBackend with 1 concurrent workers.\n",
      "[Parallel(n_jobs=1)]: Done  70 out of  70 | elapsed: 10.9min finished\n",
      "[Parallel(n_jobs=1)]: Using backend SequentialBackend with 1 concurrent workers.\n",
      "[Parallel(n_jobs=1)]: Done  70 out of  70 | elapsed:    6.8s finished\n",
      "[Parallel(n_jobs=1)]: Using backend SequentialBackend with 1 concurrent workers.\n",
      "[Parallel(n_jobs=1)]: Done  70 out of  70 | elapsed:    8.3s finished\n"
     ]
    },
    {
     "name": "stdout",
     "output_type": "stream",
     "text": [
      "- fit_time:\n",
      "-- [731.09776354 822.16338658 787.10580611 747.59304476 690.8983314\n",
      " 742.36249113 765.09452105 625.89201617 715.12905169 656.54204965]\n",
      "-- 728.3878462076187 +- 56.04371310000258\n",
      "\n",
      "- score_time:\n",
      "-- [17.74088454 18.15037823 15.52439499 15.59517097 14.95180869 15.10664344\n",
      " 15.86523128 12.37655306 15.96370721 17.81385064]\n",
      "-- 15.9088623046875 +- 1.6216511341672417\n",
      "\n",
      "- test_accuracy:\n",
      "-- [0.99187034 0.99209952 0.99237798 0.99257512 0.9921488  0.99231884\n",
      " 0.99237798 0.99240014 0.99230403 0.99183089]\n",
      "-- 0.9922303649931902 +- 0.00022748395739302662\n",
      "\n",
      "- test_precision:\n",
      "-- [0.98351563 0.9833583  0.98350793 0.98400655 0.98303463 0.98344385\n",
      " 0.98360629 0.98364321 0.98343289 0.98504128]\n",
      "-- 0.9836590562243531 +- 0.0005153211970389227\n",
      "\n",
      "- test_recall:\n",
      "-- [0.99880385 0.99948348 0.99995107 0.99986951 0.99993476 0.99988582\n",
      " 0.99984776 0.99985864 0.99986407 0.99711837]\n",
      "-- 0.9994617343748814 +- 0.0008486677905731026\n",
      "\n",
      "- test_f1:\n",
      "-- [0.99110079 0.99135532 0.99166134 0.99187461 0.99141268 0.99159668\n",
      " 0.99166053 0.99168464 0.99158042 0.99104303]\n",
      "-- 0.9914970049544886 +- 0.0002527247192076165\n",
      "\n",
      "- test_roc_auc:\n",
      "-- [0.99922224 0.99941144 0.99952398 0.9995788  0.99955237 0.9995307\n",
      " 0.99955963 0.99956063 0.99951127 0.99935182]\n",
      "-- 0.9994802866039019 +- 0.00010994950132449811\n",
      "\n"
     ]
    }
   ],
   "source": [
    "\n",
    "metricas = ['accuracy', 'precision', 'recall', 'f1', 'roc_auc' ]\n",
    "rfc = RandomForestClassifier(criterion = \"gini\", max_depth=20, min_samples_leaf=2, min_samples_split=4, n_estimators=70, verbose=1)\n",
    "metricas = cross_validate(rfc, X_train, y_train, cv=10, scoring= metricas)\n",
    "\n",
    "for met in metricas:\n",
    "    print(f\"- {met}:\")\n",
    "    print(f\"-- {metricas[met]}\")\n",
    "    print(f\"-- {np.mean(metricas[met])} +- {np.std(metricas[met])}\\n\")  "
   ]
  }
 ],
 "metadata": {
  "kernelspec": {
   "display_name": "Python 3.8.8 ('base')",
   "language": "python",
   "name": "python3"
  },
  "language_info": {
   "codemirror_mode": {
    "name": "ipython",
    "version": 3
   },
   "file_extension": ".py",
   "mimetype": "text/x-python",
   "name": "python",
   "nbconvert_exporter": "python",
   "pygments_lexer": "ipython3",
   "version": "3.8.8"
  },
  "vscode": {
   "interpreter": {
    "hash": "d6fd0ddfe3c85bcfe4f8e77f46430ba868a8e1e9d0d51bc5b99897b6920216da"
   }
  }
 },
 "nbformat": 4,
 "nbformat_minor": 5
}
