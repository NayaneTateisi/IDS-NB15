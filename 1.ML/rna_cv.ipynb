{
 "cells": [
  {
   "cell_type": "code",
   "execution_count": 1,
   "id": "73e82626",
   "metadata": {},
   "outputs": [],
   "source": [
    "from sklearn.neural_network import MLPClassifier\n",
    "from sklearn.model_selection import GridSearchCV\n",
    "from sklearn.metrics import accuracy_score, recall_score, f1_score\n",
    "import pickle\n",
    "import numpy as np\n",
    "import warnings\n",
    "import time\n",
    "warnings.filterwarnings(\"ignore\")"
   ]
  },
  {
   "cell_type": "code",
   "execution_count": 2,
   "id": "07648324",
   "metadata": {},
   "outputs": [],
   "source": [
    "with open('dataset-nids.pkl','rb') as f:\n",
    "    X_train, y_train, X_test, y_test = pickle.load(f)"
   ]
  },
  {
   "cell_type": "code",
   "execution_count": 3,
   "id": "ecd33dd8",
   "metadata": {},
   "outputs": [
    {
     "data": {
      "text/plain": [
       "((3549974, 7), (3549974,), (508003, 7), (508003,))"
      ]
     },
     "execution_count": 3,
     "metadata": {},
     "output_type": "execute_result"
    }
   ],
   "source": [
    "X_train.shape, y_train.shape, X_test.shape, y_test.shape"
   ]
  },
  {
   "cell_type": "markdown",
   "id": "9e322a21",
   "metadata": {},
   "source": [
    "Tuning best parameters"
   ]
  },
  {
   "cell_type": "code",
   "execution_count": 4,
   "id": "98dc7a0e",
   "metadata": {},
   "outputs": [
    {
     "name": "stdout",
     "output_type": "stream",
     "text": [
      "CPU times: total: 0 ns\n",
      "Wall time: 0 ns\n"
     ]
    }
   ],
   "source": [
    "%%time \n",
    "\n",
    "param_grid = {\n",
    "    \"hidden_layer_sizes\": [(4),(4,4),(4,3)],\n",
    "    \"activation\":['tanh','relu'],\n",
    "    \"solver\": ['sgd','adam'],\n",
    "    \"tol\": [0.001, 0.0001,0.0001],\n",
    "    \"alpha\": [0.001,0.5]\n",
    "}"
   ]
  },
  {
   "cell_type": "code",
   "execution_count": 5,
   "id": "342b2dca",
   "metadata": {},
   "outputs": [
    {
     "name": "stdout",
     "output_type": "stream",
     "text": [
      "Fitting 5 folds for each of 72 candidates, totalling 360 fits\n",
      "CPU times: total: 2min 15s\n",
      "Wall time: 5h 19min 34s\n"
     ]
    }
   ],
   "source": [
    "%%time\n",
    "cf = MLPClassifier()\n",
    "cf_cv = GridSearchCV(verbose = True,estimator=cf, param_grid=param_grid, scoring=\"precision\", cv=5, n_jobs=-1)\n",
    "cf_cv.fit(X_train, y_train)\n",
    "\n",
    "params = cf_cv.best_params_\n",
    "score = cf_cv.best_score_"
   ]
  },
  {
   "cell_type": "code",
   "execution_count": 6,
   "id": "6b807e8e",
   "metadata": {},
   "outputs": [
    {
     "name": "stdout",
     "output_type": "stream",
     "text": [
      "{'activation': 'tanh', 'alpha': 0.001, 'hidden_layer_sizes': (4, 3), 'solver': 'adam', 'tol': 0.0001}\n",
      "0.9843246994007121\n"
     ]
    }
   ],
   "source": [
    "print(params)\n",
    "print(score)"
   ]
  },
  {
   "cell_type": "markdown",
   "id": "874b81bd",
   "metadata": {},
   "source": [
    "Baseline"
   ]
  },
  {
   "cell_type": "code",
   "execution_count": 8,
   "id": "1a8a9b3b",
   "metadata": {},
   "outputs": [],
   "source": [
    "rna = MLPClassifier(verbose=True, activation=  'tanh', alpha = 0.001, hidden_layer_sizes = (4, 4), solver= 'adam', tol = 0.00001)"
   ]
  },
  {
   "cell_type": "code",
   "execution_count": 9,
   "id": "f4d0eb9b",
   "metadata": {},
   "outputs": [
    {
     "name": "stdout",
     "output_type": "stream",
     "text": [
      "Iteration 1, loss = 0.04875237\n",
      "Iteration 2, loss = 0.03365432\n",
      "Iteration 3, loss = 0.03294999\n",
      "Iteration 4, loss = 0.03268767\n",
      "Iteration 5, loss = 0.03255269\n",
      "Iteration 6, loss = 0.03248964\n",
      "Iteration 7, loss = 0.03242983\n",
      "Iteration 8, loss = 0.03239591\n",
      "Iteration 9, loss = 0.03237417\n",
      "Iteration 10, loss = 0.03234021\n",
      "Iteration 11, loss = 0.03231978\n",
      "Iteration 12, loss = 0.03227960\n",
      "Iteration 13, loss = 0.03216574\n",
      "Iteration 14, loss = 0.03200456\n",
      "Iteration 15, loss = 0.03184819\n",
      "Iteration 16, loss = 0.03170309\n",
      "Iteration 17, loss = 0.03162114\n",
      "Iteration 18, loss = 0.03157661\n",
      "Iteration 19, loss = 0.03155791\n",
      "Iteration 20, loss = 0.03154502\n",
      "Iteration 21, loss = 0.03154822\n",
      "Iteration 22, loss = 0.03154280\n",
      "Iteration 23, loss = 0.03153125\n",
      "Iteration 24, loss = 0.03153815\n",
      "Iteration 25, loss = 0.03153343\n",
      "Iteration 26, loss = 0.03152159\n",
      "Iteration 27, loss = 0.03152265\n",
      "Iteration 28, loss = 0.03152127\n",
      "Iteration 29, loss = 0.03151456\n",
      "Iteration 30, loss = 0.03151821\n",
      "Iteration 31, loss = 0.03151282\n",
      "Iteration 32, loss = 0.03152009\n",
      "Iteration 33, loss = 0.03150863\n",
      "Iteration 34, loss = 0.03151982\n",
      "Training loss did not improve more than tol=0.000010 for 10 consecutive epochs. Stopping.\n"
     ]
    }
   ],
   "source": [
    "rna_cls = rna.fit(X_train, y_train)"
   ]
  },
  {
   "cell_type": "code",
   "execution_count": 10,
   "id": "c3c112fd",
   "metadata": {},
   "outputs": [],
   "source": [
    "from sklearn.metrics import precision_recall_curve, auc, roc_curve, roc_auc_score\n",
    "from sklearn.metrics import confusion_matrix, plot_confusion_matrix\n",
    "import scikitplot as skplt \n",
    "import matplotlib.pyplot as plt"
   ]
  },
  {
   "cell_type": "code",
   "execution_count": 12,
   "id": "85fbe291",
   "metadata": {},
   "outputs": [
    {
     "data": {
      "text/plain": [
       "Text(0, 0.5, 'Valores Reais ')"
      ]
     },
     "execution_count": 12,
     "metadata": {},
     "output_type": "execute_result"
    },
    {
     "data": {
      "image/png": "[encoded data removed]",
      "text/plain": [
       "<Figure size 432x432 with 2 Axes>"
      ]
     },
     "metadata": {
      "needs_background": "light"
     },
     "output_type": "display_data"
    }
   ],
   "source": [
    "y_pred_opt = rna_cls.predict(X_test)\n",
    "ax = skplt.metrics.plot_confusion_matrix(y_test, y_pred_opt, figsize=(6,6))\n",
    "ax.set_title('Matriz de confusão')\n",
    "ax.set_xlabel('\\nValores Preditos')\n",
    "ax.set_ylabel('Valores Reais ')"
   ]
  },
  {
   "cell_type": "code",
   "execution_count": 16,
   "id": "6f6a7d41",
   "metadata": {},
   "outputs": [
    {
     "data": {
      "image/png": "[encoded data removed]",
      "text/plain": [
       "<Figure size 432x288 with 1 Axes>"
      ]
     },
     "metadata": {
      "needs_background": "light"
     },
     "output_type": "display_data"
    }
   ],
   "source": [
    "y_pred_proba = rna_cls.predict_proba(X_test)[::,1]\n",
    "fpr, tpr, _ = roc_curve(y_test,  y_pred_proba)\n",
    "auc = roc_auc_score(y_test, y_pred_proba)\n",
    "plt.plot(fpr,tpr,label=\"auc=\"+str(round(auc,4)))\n",
    "plt.ylabel('\\nSensibilidade \\n(TVP)')\n",
    "plt.xlabel('\\n 1-Especifidade \\n(TFP)')\n",
    "plt.legend('Curva ROC')\n",
    "plt.legend(loc=4)\n",
    "plt.show()"
   ]
  },
  {
   "cell_type": "markdown",
   "id": "8a7c5f70",
   "metadata": {},
   "source": [
    "Cross Validation"
   ]
  },
  {
   "cell_type": "code",
   "execution_count": 13,
   "id": "678c65d2",
   "metadata": {
    "scrolled": true
   },
   "outputs": [],
   "source": [
    "X_train = np.concatenate((X_train, X_test),axis = 0)\n",
    "y_train = np.concatenate((y_train, y_test),axis = 0)"
   ]
  },
  {
   "cell_type": "code",
   "execution_count": 14,
   "id": "6caeff07",
   "metadata": {},
   "outputs": [
    {
     "data": {
      "text/plain": [
       "((4057977, 7), (4057977,))"
      ]
     },
     "execution_count": 14,
     "metadata": {},
     "output_type": "execute_result"
    }
   ],
   "source": [
    "X_train.shape, y_train.shape"
   ]
  },
  {
   "cell_type": "code",
   "execution_count": 15,
   "id": "02cd1dc5",
   "metadata": {},
   "outputs": [],
   "source": [
    "from sklearn.model_selection import cross_validate"
   ]
  },
  {
   "cell_type": "code",
   "execution_count": 16,
   "id": "5f876a15",
   "metadata": {},
   "outputs": [],
   "source": [
    "metricas = ['accuracy', 'precision', 'recall', 'f1', 'roc_auc']\n",
    "rna = MLPClassifier(verbose=True, activation=  'tanh', alpha = 0.001, hidden_layer_sizes = (4, 3), solver= 'adam', tol = 0.0001)"
   ]
  },
  {
   "cell_type": "code",
   "execution_count": 17,
   "id": "b5448351",
   "metadata": {},
   "outputs": [
    {
     "name": "stdout",
     "output_type": "stream",
     "text": [
      "Iteration 1, loss = 0.05738411\n",
      "Iteration 2, loss = 0.03489672\n",
      "Iteration 3, loss = 0.03450110\n",
      "Iteration 4, loss = 0.03423462\n",
      "Iteration 5, loss = 0.03393558\n",
      "Iteration 6, loss = 0.03372889\n",
      "Iteration 7, loss = 0.03358699\n",
      "Iteration 8, loss = 0.03350609\n",
      "Iteration 9, loss = 0.03344344\n",
      "Iteration 10, loss = 0.03337770\n",
      "Iteration 11, loss = 0.03333848\n",
      "Iteration 12, loss = 0.03330566\n",
      "Iteration 13, loss = 0.03326977\n",
      "Iteration 14, loss = 0.03324197\n",
      "Iteration 15, loss = 0.03322469\n",
      "Iteration 16, loss = 0.03320345\n",
      "Iteration 17, loss = 0.03317851\n",
      "Iteration 18, loss = 0.03316830\n",
      "Training loss did not improve more than tol=0.000100 for 10 consecutive epochs. Stopping.\n",
      "Iteration 1, loss = 0.05484770\n",
      "Iteration 2, loss = 0.03876680\n",
      "Iteration 3, loss = 0.03440028\n",
      "Iteration 4, loss = 0.03405142\n",
      "Iteration 5, loss = 0.03392026\n",
      "Iteration 6, loss = 0.03385711\n",
      "Iteration 7, loss = 0.03382001\n",
      "Iteration 8, loss = 0.03378148\n",
      "Iteration 9, loss = 0.03375190\n",
      "Iteration 10, loss = 0.03371495\n",
      "Iteration 11, loss = 0.03368975\n",
      "Iteration 12, loss = 0.03366421\n",
      "Iteration 13, loss = 0.03363025\n",
      "Iteration 14, loss = 0.03362068\n",
      "Iteration 15, loss = 0.03359102\n",
      "Iteration 16, loss = 0.03356398\n",
      "Training loss did not improve more than tol=0.000100 for 10 consecutive epochs. Stopping.\n",
      "Iteration 1, loss = 0.06341601\n",
      "Iteration 2, loss = 0.04124219\n",
      "Iteration 3, loss = 0.03602833\n",
      "Iteration 4, loss = 0.03422918\n",
      "Iteration 5, loss = 0.03403166\n",
      "Iteration 6, loss = 0.03398520\n",
      "Iteration 7, loss = 0.03396450\n",
      "Iteration 8, loss = 0.03393741\n",
      "Iteration 9, loss = 0.03391531\n",
      "Iteration 10, loss = 0.03389535\n",
      "Iteration 11, loss = 0.03386624\n",
      "Iteration 12, loss = 0.03381786\n",
      "Iteration 13, loss = 0.03377438\n",
      "Iteration 14, loss = 0.03372975\n",
      "Iteration 15, loss = 0.03367528\n",
      "Iteration 16, loss = 0.03361258\n",
      "Training loss did not improve more than tol=0.000100 for 10 consecutive epochs. Stopping.\n",
      "Iteration 1, loss = 0.06034700\n",
      "Iteration 2, loss = 0.04045371\n",
      "Iteration 3, loss = 0.03502071\n",
      "Iteration 4, loss = 0.03456558\n",
      "Iteration 5, loss = 0.03433063\n",
      "Iteration 6, loss = 0.03426665\n",
      "Iteration 7, loss = 0.03423397\n",
      "Iteration 8, loss = 0.03420405\n",
      "Iteration 9, loss = 0.03419698\n",
      "Iteration 10, loss = 0.03419472\n",
      "Iteration 11, loss = 0.03418725\n",
      "Iteration 12, loss = 0.03415564\n",
      "Iteration 13, loss = 0.03413927\n",
      "Iteration 14, loss = 0.03413448\n",
      "Iteration 15, loss = 0.03410946\n",
      "Iteration 16, loss = 0.03409562\n",
      "Training loss did not improve more than tol=0.000100 for 10 consecutive epochs. Stopping.\n",
      "Iteration 1, loss = 0.05803659\n",
      "Iteration 2, loss = 0.03977827\n",
      "Iteration 3, loss = 0.03583625\n",
      "Iteration 4, loss = 0.03407715\n",
      "Iteration 5, loss = 0.03391872\n",
      "Iteration 6, loss = 0.03381185\n",
      "Iteration 7, loss = 0.03375420\n",
      "Iteration 8, loss = 0.03370067\n",
      "Iteration 9, loss = 0.03364985\n",
      "Iteration 10, loss = 0.03360788\n",
      "Iteration 11, loss = 0.03360326\n",
      "Iteration 12, loss = 0.03357397\n",
      "Iteration 13, loss = 0.03355930\n",
      "Iteration 14, loss = 0.03354445\n",
      "Iteration 15, loss = 0.03352373\n",
      "Iteration 16, loss = 0.03349804\n",
      "Iteration 17, loss = 0.03342738\n",
      "Training loss did not improve more than tol=0.000100 for 10 consecutive epochs. Stopping.\n",
      "Iteration 1, loss = 0.05231162\n",
      "Iteration 2, loss = 0.03748066\n",
      "Iteration 3, loss = 0.03740376\n",
      "Iteration 4, loss = 0.03736365\n",
      "Iteration 5, loss = 0.03731936\n",
      "Iteration 6, loss = 0.03728285\n",
      "Iteration 7, loss = 0.03725472\n",
      "Iteration 8, loss = 0.03722038\n",
      "Iteration 9, loss = 0.03718741\n",
      "Iteration 10, loss = 0.03715544\n",
      "Iteration 11, loss = 0.03713238\n",
      "Iteration 12, loss = 0.03712483\n",
      "Iteration 13, loss = 0.03711119\n",
      "Training loss did not improve more than tol=0.000100 for 10 consecutive epochs. Stopping.\n",
      "Iteration 1, loss = 0.05854424\n",
      "Iteration 2, loss = 0.03734036\n",
      "Iteration 3, loss = 0.03410514\n",
      "Iteration 4, loss = 0.03387137\n",
      "Iteration 5, loss = 0.03376564\n",
      "Iteration 6, loss = 0.03371217\n",
      "Iteration 7, loss = 0.03367031\n",
      "Iteration 8, loss = 0.03364302\n",
      "Iteration 9, loss = 0.03361852\n",
      "Iteration 10, loss = 0.03358187\n",
      "Iteration 11, loss = 0.03357519\n",
      "Iteration 12, loss = 0.03355156\n",
      "Iteration 13, loss = 0.03354626\n",
      "Iteration 14, loss = 0.03353459\n",
      "Iteration 15, loss = 0.03352821\n",
      "Iteration 16, loss = 0.03351510\n",
      "Training loss did not improve more than tol=0.000100 for 10 consecutive epochs. Stopping.\n",
      "Iteration 1, loss = 0.05930036\n",
      "Iteration 2, loss = 0.03492127\n",
      "Iteration 3, loss = 0.03475121\n",
      "Iteration 4, loss = 0.03465923\n",
      "Iteration 5, loss = 0.03458877\n",
      "Iteration 6, loss = 0.03449461\n",
      "Iteration 7, loss = 0.03442471\n",
      "Iteration 8, loss = 0.03437346\n",
      "Iteration 9, loss = 0.03431497\n",
      "Iteration 10, loss = 0.03426758\n",
      "Iteration 11, loss = 0.03422473\n",
      "Iteration 12, loss = 0.03418195\n",
      "Iteration 13, loss = 0.03412921\n",
      "Iteration 14, loss = 0.03409970\n",
      "Training loss did not improve more than tol=0.000100 for 10 consecutive epochs. Stopping.\n",
      "Iteration 1, loss = 0.05585799\n",
      "Iteration 2, loss = 0.04087615\n",
      "Iteration 3, loss = 0.03885457\n",
      "Iteration 4, loss = 0.03448217\n",
      "Iteration 5, loss = 0.03417525\n",
      "Iteration 6, loss = 0.03409076\n",
      "Iteration 7, loss = 0.03402037\n",
      "Iteration 8, loss = 0.03398018\n",
      "Iteration 9, loss = 0.03395196\n",
      "Iteration 10, loss = 0.03392689\n",
      "Iteration 11, loss = 0.03387498\n",
      "Iteration 12, loss = 0.03384624\n",
      "Iteration 13, loss = 0.03383105\n",
      "Iteration 14, loss = 0.03379793\n",
      "Iteration 15, loss = 0.03376881\n",
      "Iteration 16, loss = 0.03374976\n",
      "Training loss did not improve more than tol=0.000100 for 10 consecutive epochs. Stopping.\n",
      "Iteration 1, loss = 0.05631912\n",
      "Iteration 2, loss = 0.04143600\n",
      "Iteration 3, loss = 0.04115469\n",
      "Iteration 4, loss = 0.03841592\n",
      "Iteration 5, loss = 0.03427729\n",
      "Iteration 6, loss = 0.03391343\n",
      "Iteration 7, loss = 0.03374311\n",
      "Iteration 8, loss = 0.03362897\n",
      "Iteration 9, loss = 0.03354302\n",
      "Iteration 10, loss = 0.03346932\n",
      "Iteration 11, loss = 0.03341115\n",
      "Iteration 12, loss = 0.03336656\n",
      "Iteration 13, loss = 0.03333324\n",
      "Iteration 14, loss = 0.03330143\n",
      "Iteration 15, loss = 0.03327154\n",
      "Iteration 16, loss = 0.03326865\n",
      "Iteration 17, loss = 0.03324456\n",
      "Iteration 18, loss = 0.03321957\n",
      "Iteration 19, loss = 0.03320356\n",
      "Training loss did not improve more than tol=0.000100 for 10 consecutive epochs. Stopping.\n"
     ]
    }
   ],
   "source": [
    "score = cross_validate(rna, X_train, y_train, cv = 10, scoring = metricas)"
   ]
  },
  {
   "cell_type": "code",
   "execution_count": 18,
   "id": "ba985abe",
   "metadata": {},
   "outputs": [
    {
     "name": "stdout",
     "output_type": "stream",
     "text": [
      "-fit_time:\n",
      "-[159.43268681 137.56444025 138.99469614 135.24954748 144.2882998\n",
      " 111.03862548 135.76992297 120.11578131 137.72468901 166.56562877]\n",
      "--138.67443180084229 + 15.397738464377852 \n",
      "\n",
      "-score_time:\n",
      "-[0.74882436 0.73100209 0.67320085 0.72898889 0.67519188 0.74833393\n",
      " 0.65986943 0.74101806 0.70683956 0.79878163]\n",
      "--0.7212050676345825 + 0.04056611242940403 \n",
      "\n",
      "-test_accuracy:\n",
      "-[0.99074663 0.99097088 0.99102263 0.9913553  0.99109409 0.99047556\n",
      " 0.99126659 0.99053714 0.99124932 0.99094128]\n",
      "--0.9909659418547513 + 0.00028548392895694756 \n",
      "\n",
      "-test_precision:\n",
      "-[0.98138777 0.98144824 0.98190333 0.98241636 0.98138132 0.97993475\n",
      " 0.98213971 0.97998337 0.98211317 0.98186407]\n",
      "--0.9814572082014758 + 0.0008173960736256858 \n",
      "\n",
      "-test_recall:\n",
      "-[0.99852113 0.99896153 0.99859725 0.99880385 0.9993095  0.99945086\n",
      " 0.99889629 0.99953785 0.99888541 0.99845588]\n",
      "--0.9989419555595498 + 0.00036139914524517796 \n",
      "\n",
      "-test_f1:\n",
      "-[0.98988032 0.99012745 0.99017993 0.99054233 0.99026427 0.9895966\n",
      " 0.99044713 0.98966403 0.99042829 0.99009047]\n",
      "--0.9901220808863267 + 0.0003074122719966765 \n",
      "\n",
      "-test_roc_auc:\n",
      "-[0.99785945 0.99782639 0.99794925 0.99801617 0.99790671 0.9972985\n",
      " 0.99799328 0.99806878 0.99799627 0.99807541]\n",
      "--0.9978990226709058 + 0.00021495308853423567 \n",
      "\n"
     ]
    }
   ],
   "source": [
    "for i in score:\n",
    "    print(f\"-{i}:\")\n",
    "    print(f\"-{score[i]}\")\n",
    "    print(f\"--{np.mean(score[i])} + {np.std(score[i])} \\n\")"
   ]
  }
 ],
 "metadata": {
  "kernelspec": {
   "display_name": "Python 3.10.6 64-bit (windows store)",
   "language": "python",
   "name": "python3"
  },
  "language_info": {
   "codemirror_mode": {
    "name": "ipython",
    "version": 3
   },
   "file_extension": ".py",
   "mimetype": "text/x-python",
   "name": "python",
   "nbconvert_exporter": "python",
   "pygments_lexer": "ipython3",
   "version": "3.10.6"
  },
  "vscode": {
   "interpreter": {
    "hash": "3b7e9cb8e453d6cda0fe8c8dd13f891a1f09162f0e7c66ffeae7751a7aecf00d"
   }
  }
 },
 "nbformat": 4,
 "nbformat_minor": 5
}
