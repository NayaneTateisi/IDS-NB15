{
 "cells": [
  {
   "cell_type": "code",
   "execution_count": 1,
   "id": "9b4d398d",
   "metadata": {},
   "outputs": [],
   "source": [
    "import pandas as pd\n",
    "import numpy as np\n",
    "import pickle\n",
    "from sklearn.model_selection import train_test_split\n",
    "import warnings\n",
    "warnings.filterwarnings(\"ignore\")"
   ]
  },
  {
   "cell_type": "code",
   "execution_count": 2,
   "id": "76e9e10b",
   "metadata": {},
   "outputs": [],
   "source": [
    "df = pd.read_csv(\"data-preprocessing.csv\", index_col=[0])"
   ]
  },
  {
   "cell_type": "code",
   "execution_count": 4,
   "id": "e5d56a17",
   "metadata": {},
   "outputs": [],
   "source": [
    "df.dur.fillna(df.dur.mean(), inplace = True)\n",
    "df.ackdat.fillna(df.ackdat.mean(), inplace = True)"
   ]
  },
  {
   "cell_type": "code",
   "execution_count": 5,
   "id": "cb335649",
   "metadata": {},
   "outputs": [],
   "source": [
    "X = df.iloc[:,:47]\n",
    "y = df.Label"
   ]
  },
  {
   "cell_type": "code",
   "execution_count": 6,
   "id": "0562b699",
   "metadata": {},
   "outputs": [],
   "source": [
    "#Separating the training and testing set\n",
    "X_train, X_test, y_train, y_test = train_test_split(X, y, train_size=0.8,stratify=y)"
   ]
  },
  {
   "cell_type": "code",
   "execution_count": 7,
   "id": "5650a7ec",
   "metadata": {},
   "outputs": [
    {
     "data": {
      "text/plain": [
       "((2032008, 47), (508003, 47), (2032008,), (508003,))"
      ]
     },
     "execution_count": 7,
     "metadata": {},
     "output_type": "execute_result"
    }
   ],
   "source": [
    "X_train.shape, X_test.shape, y_train.shape, y_test.shape"
   ]
  },
  {
   "cell_type": "code",
   "execution_count": 8,
   "id": "046b79dd",
   "metadata": {},
   "outputs": [],
   "source": [
    "with open('data.pkl',mode='wb') as f:\n",
    "    pickle.dump([X_train, y_train, X_test, y_test],f)"
   ]
  }
 ],
 "metadata": {
  "interpreter": {
   "hash": "f08154012ddadd8e950e6e9e035c7a7b32c136e7647e9b7c77e02eb723a8bedb"
  },
  "kernelspec": {
   "display_name": "Python 3.9.7 ('base')",
   "language": "python",
   "name": "python3"
  },
  "language_info": {
   "codemirror_mode": {
    "name": "ipython",
    "version": 3
   },
   "file_extension": ".py",
   "mimetype": "text/x-python",
   "name": "python",
   "nbconvert_exporter": "python",
   "pygments_lexer": "ipython3",
   "version": "3.9.7"
  }
 },
 "nbformat": 4,
 "nbformat_minor": 5
}
