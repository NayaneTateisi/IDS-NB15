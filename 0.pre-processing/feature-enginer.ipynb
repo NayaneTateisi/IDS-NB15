{
 "cells": [
  {
   "cell_type": "code",
   "execution_count": 5,
   "id": "73e82626",
   "metadata": {},
   "outputs": [],
   "source": [
    "import pandas as pd\n",
    "from sklearn.ensemble import RandomForestClassifier\n",
    "from sklearn.model_selection import GridSearchCV\n",
    "from sklearn.metrics import classification_report\n",
    "import pickle\n",
    "import warnings\n",
    "warnings.filterwarnings(\"ignore\")"
   ]
  },
  {
   "cell_type": "code",
   "execution_count": 2,
   "id": "297ea0e7",
   "metadata": {},
   "outputs": [],
   "source": [
    "with open('normalization.pkl','rb') as f:\n",
    "    X_train, y_train, X_test, y_test = pickle.load(f)"
   ]
  },
  {
   "cell_type": "code",
   "execution_count": 3,
   "id": "1789d5d7",
   "metadata": {},
   "outputs": [
    {
     "data": {
      "text/plain": [
       "((3549974, 47), (3549974,), (508003, 47), (508003,))"
      ]
     },
     "execution_count": 3,
     "metadata": {},
     "output_type": "execute_result"
    }
   ],
   "source": [
    "X_train.shape, y_train.shape, X_test.shape, y_test.shape"
   ]
  },
  {
   "cell_type": "markdown",
   "id": "450a31ed",
   "metadata": {},
   "source": [
    "Select the feature"
   ]
  },
  {
   "cell_type": "markdown",
   "id": "44cd19fc",
   "metadata": {},
   "source": [
    "Finding the best parameters"
   ]
  },
  {
   "cell_type": "code",
   "execution_count": 4,
   "id": "d38af511",
   "metadata": {},
   "outputs": [
    {
     "name": "stdout",
     "output_type": "stream",
     "text": [
      "Wall time: 17h 51min 59s\n"
     ]
    },
    {
     "data": {
      "text/plain": [
       "{'criterion': 'gini',\n",
       " 'max_depth': 25,\n",
       " 'min_samples_leaf': 1,\n",
       " 'min_samples_split': 2,\n",
       " 'n_estimators': 75}"
      ]
     },
     "execution_count": 4,
     "metadata": {},
     "output_type": "execute_result"
    }
   ],
   "source": [
    "%%time \n",
    "from sklearn.model_selection import GridSearchCV\n",
    "\n",
    "param_grid = {\n",
    "    \"criterion\": ['gini', 'entropy'],\n",
    "    \"max_depth\": [15, 20, 25],\n",
    "    \"n_estimators\": [60, 70, 75],\n",
    "    \"min_samples_split\":[0,1,2],\n",
    "    \"min_samples_leaf\":[0.2,0.5,1]\n",
    "}\n",
    "\n",
    "cf = RandomForestClassifier()\n",
    "cf_cv = GridSearchCV(estimator=cf, param_grid=param_grid, scoring=\"f1\", cv=5)\n",
    "cf_cv.fit(X_train, y_train)\n",
    "\n",
    "cf_cv.best_params_"
   ]
  },
  {
   "cell_type": "code",
   "execution_count": 6,
   "id": "968cbf09",
   "metadata": {},
   "outputs": [],
   "source": [
    "rfc = RandomForestClassifier(verbose=1, random_state = 0, max_depth = 25, min_samples_leaf=1,min_samples_split=2, n_estimators=75 )"
   ]
  },
  {
   "cell_type": "code",
   "execution_count": 7,
   "id": "678c65d2",
   "metadata": {
    "scrolled": true
   },
   "outputs": [
    {
     "name": "stderr",
     "output_type": "stream",
     "text": [
      "[Parallel(n_jobs=1)]: Using backend SequentialBackend with 1 concurrent workers.\n",
      "[Parallel(n_jobs=1)]: Done  75 out of  75 | elapsed: 14.1min finished\n",
      "[Parallel(n_jobs=1)]: Using backend SequentialBackend with 1 concurrent workers.\n",
      "[Parallel(n_jobs=1)]: Done  75 out of  75 | elapsed:    3.0s finished\n"
     ]
    }
   ],
   "source": [
    "rfc.fit(X_train, y_train)\n",
    "y_pred= rfc.predict(X_test)"
   ]
  },
  {
   "cell_type": "code",
   "execution_count": 8,
   "id": "c606a016",
   "metadata": {},
   "outputs": [
    {
     "name": "stdout",
     "output_type": "stream",
     "text": [
      "Matrix:               precision    recall  f1-score   support\n",
      "\n",
      "           0       1.00      0.99      0.99    443747\n",
      "           1       0.92      1.00      0.96     64256\n",
      "\n",
      "    accuracy                           0.99    508003\n",
      "   macro avg       0.96      0.99      0.97    508003\n",
      "weighted avg       0.99      0.99      0.99    508003\n",
      "\n"
     ]
    }
   ],
   "source": [
    "print('Matrix:', classification_report(y_test,y_pred))"
   ]
  },
  {
   "cell_type": "code",
   "execution_count": 9,
   "id": "609dcfc6",
   "metadata": {},
   "outputs": [],
   "source": [
    "col_names = ['srcip', 'sport', 'dstip', 'dsport', 'proto', 'state', 'dur', 'sbytes',\n",
    "       'dbytes', 'sttl', 'dttl', 'sloss', 'dloss', 'service', 'Sload', 'Dload',\n",
    "       'Spkts', 'Dpkts', 'swin', 'dwin', 'stcpb', 'dtcpb', 'smeansz',\n",
    "       'dmeansz', 'trans_depth', 'res_bdy_len', 'Sjit', 'Djit', 'Stime',\n",
    "       'Ltime', 'Sintpkt', 'Dintpkt', 'tcprtt', 'synack', 'ackdat',\n",
    "       'is_sm_ips_ports', 'ct_state_ttl', 'ct_flw_http_mthd', 'is_ftp_login',\n",
    "       'ct_ftp_cmd', 'ct_srv_src', 'ct_srv_dst', 'ct_dst_ltm', 'ct_src_ ltm',\n",
    "       'ct_src_dport_ltm', 'ct_dst_sport_ltm', 'ct_dst_src_ltm']"
   ]
  },
  {
   "cell_type": "code",
   "execution_count": 10,
   "id": "278d2330",
   "metadata": {},
   "outputs": [],
   "source": [
    "fi = pd.DataFrame({ 'feature':col_names, 'importance': rfc.feature_importances_}).sort_values('importance',  ascending = False)"
   ]
  },
  {
   "cell_type": "code",
   "execution_count": 11,
   "id": "74c083b2",
   "metadata": {},
   "outputs": [
    {
     "data": {
      "text/html": [
       "<div>\n",
       "<style scoped>\n",
       "    .dataframe tbody tr th:only-of-type {\n",
       "        vertical-align: middle;\n",
       "    }\n",
       "\n",
       "    .dataframe tbody tr th {\n",
       "        vertical-align: top;\n",
       "    }\n",
       "\n",
       "    .dataframe thead th {\n",
       "        text-align: right;\n",
       "    }\n",
       "</style>\n",
       "<table border=\"1\" class=\"dataframe\">\n",
       "  <thead>\n",
       "    <tr style=\"text-align: right;\">\n",
       "      <th></th>\n",
       "      <th>feature</th>\n",
       "      <th>importance</th>\n",
       "    </tr>\n",
       "  </thead>\n",
       "  <tbody>\n",
       "    <tr>\n",
       "      <th>0</th>\n",
       "      <td>srcip</td>\n",
       "      <td>0.193031</td>\n",
       "    </tr>\n",
       "    <tr>\n",
       "      <th>36</th>\n",
       "      <td>ct_state_ttl</td>\n",
       "      <td>0.143258</td>\n",
       "    </tr>\n",
       "    <tr>\n",
       "      <th>9</th>\n",
       "      <td>sttl</td>\n",
       "      <td>0.132478</td>\n",
       "    </tr>\n",
       "    <tr>\n",
       "      <th>23</th>\n",
       "      <td>dmeansz</td>\n",
       "      <td>0.083276</td>\n",
       "    </tr>\n",
       "    <tr>\n",
       "      <th>8</th>\n",
       "      <td>dbytes</td>\n",
       "      <td>0.055197</td>\n",
       "    </tr>\n",
       "    <tr>\n",
       "      <th>14</th>\n",
       "      <td>Sload</td>\n",
       "      <td>0.054356</td>\n",
       "    </tr>\n",
       "    <tr>\n",
       "      <th>10</th>\n",
       "      <td>dttl</td>\n",
       "      <td>0.047501</td>\n",
       "    </tr>\n",
       "  </tbody>\n",
       "</table>\n",
       "</div>"
      ],
      "text/plain": [
       "         feature  importance\n",
       "0          srcip    0.193031\n",
       "36  ct_state_ttl    0.143258\n",
       "9           sttl    0.132478\n",
       "23       dmeansz    0.083276\n",
       "8         dbytes    0.055197\n",
       "14         Sload    0.054356\n",
       "10          dttl    0.047501"
      ]
     },
     "execution_count": 11,
     "metadata": {},
     "output_type": "execute_result"
    }
   ],
   "source": [
    "fi.head(7)"
   ]
  },
  {
   "cell_type": "code",
   "execution_count": 16,
   "id": "b78a2d3a",
   "metadata": {},
   "outputs": [
    {
     "data": {
      "image/png": "[encoded data removed]",
      "text/plain": [
       "<Figure size 432x288 with 1 Axes>"
      ]
     },
     "metadata": {
      "needs_background": "light"
     },
     "output_type": "display_data"
    }
   ],
   "source": [
    "from matplotlib import pyplot\n",
    "importance = rfc.feature_importances_\n",
    "pyplot.xlabel('Característica')\n",
    "pyplot.ylabel('Importância')\n",
    "pyplot.bar([x for x in range(len(importance))], importance)\n",
    "pyplot.show()"
   ]
  },
  {
   "cell_type": "code",
   "execution_count": 13,
   "id": "40d2aea0",
   "metadata": {},
   "outputs": [],
   "source": [
    "X_train= X_train[:,[0,36,9,23,8,14,10]].copy()\n",
    "X_test = X_test[:,[0,36,9,23,8,14,10]].copy()"
   ]
  },
  {
   "cell_type": "code",
   "execution_count": 14,
   "id": "7617997f",
   "metadata": {},
   "outputs": [
    {
     "data": {
      "text/plain": [
       "((3549974, 7), (3549974,), (508003, 7), (508003,))"
      ]
     },
     "execution_count": 14,
     "metadata": {},
     "output_type": "execute_result"
    }
   ],
   "source": [
    "X_train.shape, y_train.shape, X_test.shape, y_test.shape"
   ]
  },
  {
   "cell_type": "code",
   "execution_count": 15,
   "id": "6ef49e84",
   "metadata": {},
   "outputs": [],
   "source": [
    "with open('dataset-nids.pkl',mode='wb') as f:\n",
    "    pickle.dump([X_train, y_train, X_test, y_test],f)"
   ]
  }
 ],
 "metadata": {
  "interpreter": {
   "hash": "f08154012ddadd8e950e6e9e035c7a7b32c136e7647e9b7c77e02eb723a8bedb"
  },
  "kernelspec": {
   "display_name": "Python 3.9.7 ('base')",
   "language": "python",
   "name": "python3"
  },
  "language_info": {
   "codemirror_mode": {
    "name": "ipython",
    "version": 3
   },
   "file_extension": ".py",
   "mimetype": "text/x-python",
   "name": "python",
   "nbconvert_exporter": "python",
   "pygments_lexer": "ipython3",
   "version": "3.9.7"
  }
 },
 "nbformat": 4,
 "nbformat_minor": 5
}
