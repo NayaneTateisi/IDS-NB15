{
 "cells": [
  {
   "cell_type": "code",
   "execution_count": 1,
   "id": "d21a1332",
   "metadata": {},
   "outputs": [],
   "source": [
    "import pandas as pd\n",
    "import numpy as np\n",
    "import warnings\n",
    "warnings.filterwarnings(\"ignore\")"
   ]
  },
  {
   "cell_type": "code",
   "execution_count": 2,
   "id": "be154eca",
   "metadata": {},
   "outputs": [],
   "source": [
    "df = pd.read_csv(\"UNSW-NB15.csv\")"
   ]
  },
  {
   "cell_type": "code",
   "execution_count": 3,
   "id": "a5fdcbe5",
   "metadata": {},
   "outputs": [],
   "source": [
    "df4 = pd.read_csv(\"UNSW-NB15_4.csv\",header=None)\n",
    "df3 = pd.read_csv(\"UNSW-NB15_3.csv\",header=None)\n",
    "df2 = pd.read_csv(\"UNSW-NB15_2.csv\",header=None)"
   ]
  },
  {
   "cell_type": "code",
   "execution_count": 4,
   "id": "5027e05b",
   "metadata": {},
   "outputs": [],
   "source": [
    "df4.columns = df.columns \n",
    "df3.columns = df.columns \n",
    "df2.columns = df.columns "
   ]
  },
  {
   "cell_type": "code",
   "execution_count": 5,
   "id": "450317cf",
   "metadata": {},
   "outputs": [
    {
     "data": {
      "text/plain": [
       "((700001, 49), (700001, 49), (700001, 49), (440044, 49))"
      ]
     },
     "execution_count": 5,
     "metadata": {},
     "output_type": "execute_result"
    }
   ],
   "source": [
    "df.shape, df2.shape, df3.shape, df4.shape"
   ]
  },
  {
   "cell_type": "code",
   "execution_count": 6,
   "id": "965d518f",
   "metadata": {},
   "outputs": [],
   "source": [
    "data = df.append(df2)"
   ]
  },
  {
   "cell_type": "code",
   "execution_count": 7,
   "id": "1d07bab7",
   "metadata": {},
   "outputs": [
    {
     "data": {
      "text/plain": [
       "(1400002, 49)"
      ]
     },
     "execution_count": 7,
     "metadata": {},
     "output_type": "execute_result"
    }
   ],
   "source": [
    "data.shape"
   ]
  },
  {
   "cell_type": "code",
   "execution_count": 8,
   "id": "faffbe83",
   "metadata": {},
   "outputs": [],
   "source": [
    "data = data.append(df3)"
   ]
  },
  {
   "cell_type": "code",
   "execution_count": 9,
   "id": "6271c230",
   "metadata": {},
   "outputs": [
    {
     "data": {
      "text/plain": [
       "(2100003, 49)"
      ]
     },
     "execution_count": 9,
     "metadata": {},
     "output_type": "execute_result"
    }
   ],
   "source": [
    "data.shape"
   ]
  },
  {
   "cell_type": "code",
   "execution_count": 10,
   "id": "565e73c5",
   "metadata": {},
   "outputs": [],
   "source": [
    "data = data.append(df4)"
   ]
  },
  {
   "cell_type": "code",
   "execution_count": 11,
   "id": "8ec0c6d8",
   "metadata": {},
   "outputs": [
    {
     "data": {
      "text/plain": [
       "(2540047, 49)"
      ]
     },
     "execution_count": 11,
     "metadata": {},
     "output_type": "execute_result"
    }
   ],
   "source": [
    "data.shape"
   ]
  },
  {
   "cell_type": "code",
   "execution_count": 12,
   "id": "8a3487a9",
   "metadata": {},
   "outputs": [],
   "source": [
    "data.to_csv('data.csv')"
   ]
  }
 ],
 "metadata": {
  "kernelspec": {
   "display_name": "Python 3",
   "language": "python",
   "name": "python3"
  },
  "language_info": {
   "codemirror_mode": {
    "name": "ipython",
    "version": 3
   },
   "file_extension": ".py",
   "mimetype": "text/x-python",
   "name": "python",
   "nbconvert_exporter": "python",
   "pygments_lexer": "ipython3",
   "version": "3.8.8"
  }
 },
 "nbformat": 4,
 "nbformat_minor": 5
}
