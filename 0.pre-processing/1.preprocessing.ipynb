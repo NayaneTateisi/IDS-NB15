{
 "cells": [
  {
   "cell_type": "code",
   "execution_count": 1,
   "id": "1614a6cb",
   "metadata": {},
   "outputs": [],
   "source": [
    "import pandas as pd\n",
    "import numpy as np\n",
    "import socket as sk\n",
    "import struct as st\n",
    "from sklearn.preprocessing import LabelEncoder\n",
    "#from sklearn.preprocessing import OneHotEncoder\n",
    "#from sklearn.compose import ColumnTransformer\n",
    "import warnings\n",
    "warnings.filterwarnings(\"ignore\")"
   ]
  },
  {
   "cell_type": "code",
   "execution_count": 2,
   "id": "774e864a",
   "metadata": {},
   "outputs": [],
   "source": [
    "df = pd.read_csv(\"data.csv\", index_col = [0])"
   ]
  },
  {
   "cell_type": "markdown",
   "id": "594a4f41",
   "metadata": {},
   "source": [
    "# Finding the bad guys!"
   ]
  },
  {
   "cell_type": "code",
   "execution_count": 3,
   "id": "97ba2f42",
   "metadata": {},
   "outputs": [],
   "source": [
    "#router's address \n",
    "df.loc[df.srcip == '192168241243','srcip'] = '192.168.241.243'\n",
    "df.loc[df.dstip == '192168241243','dstip'] = '192.168.241.243'"
   ]
  },
  {
   "cell_type": "code",
   "execution_count": 4,
   "id": "406e3c93",
   "metadata": {},
   "outputs": [],
   "source": [
    "#Converting Hex to Base 10\n",
    "df.loc[df.dsport == '0xc0a8','dsport'] = '49320'\n",
    "df.loc[df.dsport == '0x20205321','dsport'] = '538989345'\n",
    "df.loc[df.dsport == '0xcc09','dsport'] = '52233'\n",
    "df.loc[df.sport == '0x000b','sport'] = '11'\n",
    "df.loc[df.sport == '0x000c','sport'] = '12'"
   ]
  },
  {
   "cell_type": "code",
   "execution_count": 5,
   "id": "213d73c3",
   "metadata": {},
   "outputs": [],
   "source": [
    "#Converting IP to a numerical\n",
    "df['srcip'] = df.srcip.apply(lambda x: st.unpack('!I', sk.inet_aton(x))[0])\n",
    "df['dstip'] = df.dstip.apply(lambda x: st.unpack('!I', sk.inet_aton(x))[0])"
   ]
  },
  {
   "cell_type": "code",
   "execution_count": 6,
   "id": "633db2e8",
   "metadata": {},
   "outputs": [],
   "source": [
    "# Getting rid of unnecessary column\n",
    "df.drop(columns='attack_cat', inplace = True)\n",
    "\n",
    "#Handling missing values\n",
    "df.drop(df.loc[df.dsport == '-'].index, inplace = True)\n",
    "df.drop(df.loc[df.sport == '-'].index, inplace = True)"
   ]
  },
  {
   "cell_type": "code",
   "execution_count": 7,
   "id": "907d6765",
   "metadata": {},
   "outputs": [],
   "source": [
    "# Handling inconsistent data\n",
    "df.dur = df.dur.str.replace(',','.')\n",
    "df.ackdat = df.ackdat.str.replace(',','.')\n",
    "df.loc[df.ct_ftp_cmd == ' ', 'ct_ftp_cmd'] = df.ct_flw_http_mthd.mean()"
   ]
  },
  {
   "cell_type": "code",
   "execution_count": 8,
   "id": "87ce4e61",
   "metadata": {},
   "outputs": [
    {
     "data": {
      "text/plain": [
       "0         0.001055\n",
       "1         0.036133\n",
       "2         0.001119\n",
       "3         0.001209\n",
       "4         0.001169\n",
       "            ...   \n",
       "440039         NaN\n",
       "440040         NaN\n",
       "440041         NaN\n",
       "440042         NaN\n",
       "440043         NaN\n",
       "Name: dur, Length: 2540011, dtype: float64"
      ]
     },
     "execution_count": 8,
     "metadata": {},
     "output_type": "execute_result"
    }
   ],
   "source": [
    "#Convert objet \n",
    "df.sport.astype(int)\n",
    "df.dsport.astype(int)\n",
    "df.ackdat.astype(float)\n",
    "df.dur.astype(float)"
   ]
  },
  {
   "cell_type": "code",
   "execution_count": 9,
   "id": "cbf1f3e4",
   "metadata": {},
   "outputs": [],
   "source": [
    "#Handling missing values\n",
    "df.ct_flw_http_mthd.fillna(df.ct_flw_http_mthd.mean(), inplace = True)\n",
    "df.is_ftp_login.fillna(df.is_ftp_login .mean(), inplace = True)\n",
    "#df.dur.fillna(df.dur.mean(), inplace = True)\n",
    "#df.ackdat.fillna(df.ackdat.mean(), inplace = True)"
   ]
  },
  {
   "cell_type": "code",
   "execution_count": 10,
   "id": "d13f6c37",
   "metadata": {},
   "outputs": [
    {
     "name": "stdout",
     "output_type": "stream",
     "text": [
      "CPU times: user 4.87 s, sys: 638 ms, total: 5.51 s\n",
      "Wall time: 12.5 s\n"
     ]
    }
   ],
   "source": [
    "%%time\n",
    "# Handling categorical data\n",
    "Encoder = LabelEncoder()\n",
    "df.proto = Encoder.fit_transform(df.proto)\n",
    "df.state = Encoder.fit_transform(df.state)\n",
    "df.service = Encoder.fit_transform(df.service)"
   ]
  },
  {
   "cell_type": "code",
   "execution_count": 11,
   "id": "7f6b7b3e",
   "metadata": {},
   "outputs": [],
   "source": [
    "df.to_csv('data-preprocessing.csv')"
   ]
  }
 ],
 "metadata": {
  "kernelspec": {
   "display_name": "Python 3",
   "language": "python",
   "name": "python3"
  },
  "language_info": {
   "codemirror_mode": {
    "name": "ipython",
    "version": 3
   },
   "file_extension": ".py",
   "mimetype": "text/x-python",
   "name": "python",
   "nbconvert_exporter": "python",
   "pygments_lexer": "ipython3",
   "version": "3.8.8"
  }
 },
 "nbformat": 4,
 "nbformat_minor": 5
}
